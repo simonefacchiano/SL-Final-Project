{
 "cells": [
  {
   "cell_type": "code",
   "execution_count": 1,
   "metadata": {},
   "outputs": [],
   "source": [
    "import pandas as pd\n",
    "import json\n",
    "import numpy as np"
   ]
  },
  {
   "cell_type": "code",
   "execution_count": 122,
   "metadata": {},
   "outputs": [
    {
     "name": "stdout",
     "output_type": "stream",
     "text": [
      "                                                post  age  gender\n",
      "0                          ooh shiny new commenting!   16  female\n",
      "1  so wuts up? today i had the parade. suked. but...   14    male\n",
      "2  i don't know about anyone else anymore, but i'...   24  female\n",
      "3  urlLink    another roof-top sunset  Posted by ...   24    male\n",
      "4  gawd i luv my nanny!  she's absolutely the gre...   23  female\n",
      "\n",
      "(526812, 3)\n"
     ]
    }
   ],
   "source": [
    "# Import data\n",
    "train = pd.read_json('train.json')\n",
    "\n",
    "# Let's have a look at out data\n",
    "print(train.head())\n",
    "print('')\n",
    "print(train.shape)"
   ]
  },
  {
   "cell_type": "code",
   "execution_count": 21,
   "metadata": {},
   "outputs": [
    {
     "data": {
      "text/plain": [
       "'urlLink    another roof-top sunset  Posted by Paul'"
      ]
     },
     "execution_count": 21,
     "metadata": {},
     "output_type": "execute_result"
    }
   ],
   "source": [
    "train.loc[3].post"
   ]
  },
  {
   "cell_type": "code",
   "execution_count": 123,
   "metadata": {},
   "outputs": [],
   "source": [
    "import matplotlib.pyplot as plt\n",
    "\n",
    "train['length'] = train['post'].apply(len)\n",
    "# train[train.length >= 80000]"
   ]
  },
  {
   "cell_type": "code",
   "execution_count": 75,
   "metadata": {},
   "outputs": [
    {
     "data": {
      "text/plain": [
       "post      0\n",
       "age       0\n",
       "gender    0\n",
       "length    0\n",
       "dtype: int64"
      ]
     },
     "execution_count": 75,
     "metadata": {},
     "output_type": "execute_result"
    }
   ],
   "source": [
    "train.isna().sum()"
   ]
  },
  {
   "cell_type": "code",
   "execution_count": 48,
   "metadata": {},
   "outputs": [
    {
     "data": {
      "text/plain": [
       "<AxesSubplot:>"
      ]
     },
     "execution_count": 48,
     "metadata": {},
     "output_type": "execute_result"
    },
    {
     "data": {
      "image/png": "[encoded data removed]",
      "text/plain": [
       "<Figure size 432x288 with 1 Axes>"
      ]
     },
     "metadata": {
      "needs_background": "light"
     },
     "output_type": "display_data"
    }
   ],
   "source": [
    "train.age.hist(bins = 15)"
   ]
  },
  {
   "cell_type": "code",
   "execution_count": 65,
   "metadata": {},
   "outputs": [
    {
     "name": "stdout",
     "output_type": "stream",
     "text": [
      "177940\n",
      "250672\n",
      "98200\n"
     ]
    }
   ],
   "source": [
    "print(len(train[train.age <= 17]))                        # Class 1\n",
    "print(len(train[(train.age >= 23) & (train.age <= 27)]))  # Class 2\n",
    "print(len(train[(train.age >= 28) & (train.age <= 48)]))  # Class 3"
   ]
  },
  {
   "cell_type": "code",
   "execution_count": 124,
   "metadata": {},
   "outputs": [],
   "source": [
    "# Double Check\n",
    "train['age_class'] = pd.cut(\n",
    "        train[\"age\"],\n",
    "        bins=[12, 18, 28, 50],\n",
    "        labels=[0, 1, 2]\n",
    "    ).astype(\"int\")"
   ]
  },
  {
   "cell_type": "code",
   "execution_count": 83,
   "metadata": {},
   "outputs": [
    {
     "data": {
      "text/plain": [
       "post      I also prefer calling you a nice guy.  In fact...\n",
       "age                                                      13\n",
       "gender                                                 male\n",
       "length                                                  763\n",
       "Name: 526809, dtype: object"
      ]
     },
     "execution_count": 83,
     "metadata": {},
     "output_type": "execute_result"
    }
   ],
   "source": [
    "train.iloc[526809]"
   ]
  },
  {
   "cell_type": "code",
   "execution_count": 136,
   "metadata": {},
   "outputs": [
    {
     "data": {
      "text/html": [
       "<div>\n",
       "<style scoped>\n",
       "    .dataframe tbody tr th:only-of-type {\n",
       "        vertical-align: middle;\n",
       "    }\n",
       "\n",
       "    .dataframe tbody tr th {\n",
       "        vertical-align: top;\n",
       "    }\n",
       "\n",
       "    .dataframe thead th {\n",
       "        text-align: right;\n",
       "    }\n",
       "</style>\n",
       "<table border=\"1\" class=\"dataframe\">\n",
       "  <thead>\n",
       "    <tr style=\"text-align: right;\">\n",
       "      <th></th>\n",
       "      <th>post</th>\n",
       "      <th>age</th>\n",
       "      <th>gender</th>\n",
       "      <th>length</th>\n",
       "      <th>age_class</th>\n",
       "      <th>new_post</th>\n",
       "      <th>new_length</th>\n",
       "    </tr>\n",
       "  </thead>\n",
       "  <tbody>\n",
       "    <tr>\n",
       "      <th>0</th>\n",
       "      <td>ooh shiny new commenting!</td>\n",
       "      <td>16</td>\n",
       "      <td>female</td>\n",
       "      <td>25</td>\n",
       "      <td>0</td>\n",
       "      <td>ooh shiny new commenting!</td>\n",
       "      <td>25</td>\n",
       "    </tr>\n",
       "    <tr>\n",
       "      <th>1</th>\n",
       "      <td>so wuts up? today i had the parade. suked. but...</td>\n",
       "      <td>14</td>\n",
       "      <td>male</td>\n",
       "      <td>245</td>\n",
       "      <td>0</td>\n",
       "      <td>wuts up? today parade. suked. wasnt bad. im ba...</td>\n",
       "      <td>163</td>\n",
       "    </tr>\n",
       "    <tr>\n",
       "      <th>2</th>\n",
       "      <td>i don't know about anyone else anymore, but i'...</td>\n",
       "      <td>24</td>\n",
       "      <td>female</td>\n",
       "      <td>462</td>\n",
       "      <td>1</td>\n",
       "      <td>don't know anymore, i'm concerned everyday. wa...</td>\n",
       "      <td>305</td>\n",
       "    </tr>\n",
       "    <tr>\n",
       "      <th>3</th>\n",
       "      <td>urlLink    another roof-top sunset  Posted by ...</td>\n",
       "      <td>24</td>\n",
       "      <td>male</td>\n",
       "      <td>50</td>\n",
       "      <td>1</td>\n",
       "      <td>urlLink roof-top sunset Posted Paul</td>\n",
       "      <td>35</td>\n",
       "    </tr>\n",
       "    <tr>\n",
       "      <th>4</th>\n",
       "      <td>gawd i luv my nanny!  she's absolutely the gre...</td>\n",
       "      <td>23</td>\n",
       "      <td>female</td>\n",
       "      <td>3656</td>\n",
       "      <td>1</td>\n",
       "      <td>gawd luv nanny! she's absolutely greatest woma...</td>\n",
       "      <td>2009</td>\n",
       "    </tr>\n",
       "    <tr>\n",
       "      <th>5</th>\n",
       "      <td>7._ Km, 39:19.4, Partly cloudy -4C, 6 km wind ...</td>\n",
       "      <td>41</td>\n",
       "      <td>male</td>\n",
       "      <td>136</td>\n",
       "      <td>2</td>\n",
       "      <td>7._ Km, 39:19.4, Partly cloudy -4C, 6 km wind ...</td>\n",
       "      <td>106</td>\n",
       "    </tr>\n",
       "  </tbody>\n",
       "</table>\n",
       "</div>"
      ],
      "text/plain": [
       "                                                post  age  gender  length  \\\n",
       "0                          ooh shiny new commenting!   16  female      25   \n",
       "1  so wuts up? today i had the parade. suked. but...   14    male     245   \n",
       "2  i don't know about anyone else anymore, but i'...   24  female     462   \n",
       "3  urlLink    another roof-top sunset  Posted by ...   24    male      50   \n",
       "4  gawd i luv my nanny!  she's absolutely the gre...   23  female    3656   \n",
       "5  7._ Km, 39:19.4, Partly cloudy -4C, 6 km wind ...   41    male     136   \n",
       "\n",
       "   age_class                                           new_post  new_length  \n",
       "0          0                          ooh shiny new commenting!          25  \n",
       "1          0  wuts up? today parade. suked. wasnt bad. im ba...         163  \n",
       "2          1  don't know anymore, i'm concerned everyday. wa...         305  \n",
       "3          1                urlLink roof-top sunset Posted Paul          35  \n",
       "4          1  gawd luv nanny! she's absolutely greatest woma...        2009  \n",
       "5          2  7._ Km, 39:19.4, Partly cloudy -4C, 6 km wind ...         106  "
      ]
     },
     "execution_count": 136,
     "metadata": {},
     "output_type": "execute_result"
    }
   ],
   "source": [
    "train.head(6)"
   ]
  },
  {
   "cell_type": "code",
   "execution_count": 121,
   "metadata": {},
   "outputs": [],
   "source": [
    "# Prima opzione: 179 parole vietate\n",
    "import nltk\n",
    "from nltk.corpus import stopwords\n",
    "\n",
    "sw_nltk = stopwords.words('english')\n",
    "\n",
    "# Seconda opzione: 326\n",
    "import spacy\n",
    "en = spacy.load('en_core_web_sm')\n",
    "sw_spacy = en.Defaults.stop_words"
   ]
  },
  {
   "cell_type": "code",
   "execution_count": 125,
   "metadata": {},
   "outputs": [],
   "source": [
    "# Delete stop words\n",
    "def delete_stopwords(text):\n",
    "    words = [word for word in text.split() if word.lower() not in sw_spacy]\n",
    "    new_text = \" \".join(words)\n",
    "    return new_text\n",
    "\n",
    "# Create new columns with new text and new length\n",
    "train['new_post'] = train['post'].apply(delete_stopwords)\n",
    "train['new_length'] = train['new_post'].apply(len)"
   ]
  },
  {
   "cell_type": "code",
   "execution_count": 141,
   "metadata": {},
   "outputs": [],
   "source": [
    "from spacy import tokenizer\n",
    "from spacy.lang.en import English\n",
    "nlp = English()\n",
    "tkz = tokenizer.Tokenizer(nlp.vocab)"
   ]
  },
  {
   "cell_type": "code",
   "execution_count": 147,
   "metadata": {},
   "outputs": [],
   "source": [
    "# Tokenization\n",
    "def word_tokenization(text):\n",
    "    return [word.text for word in tkz(text)]\n",
    "\n",
    "# Create new column with tokenized text\n",
    "train['token_post'] = train['new_post'].apply(word_tokenization)"
   ]
  },
  {
   "cell_type": "code",
   "execution_count": 148,
   "metadata": {},
   "outputs": [
    {
     "data": {
      "text/html": [
       "<div>\n",
       "<style scoped>\n",
       "    .dataframe tbody tr th:only-of-type {\n",
       "        vertical-align: middle;\n",
       "    }\n",
       "\n",
       "    .dataframe tbody tr th {\n",
       "        vertical-align: top;\n",
       "    }\n",
       "\n",
       "    .dataframe thead th {\n",
       "        text-align: right;\n",
       "    }\n",
       "</style>\n",
       "<table border=\"1\" class=\"dataframe\">\n",
       "  <thead>\n",
       "    <tr style=\"text-align: right;\">\n",
       "      <th></th>\n",
       "      <th>post</th>\n",
       "      <th>age</th>\n",
       "      <th>gender</th>\n",
       "      <th>length</th>\n",
       "      <th>age_class</th>\n",
       "      <th>new_post</th>\n",
       "      <th>new_length</th>\n",
       "      <th>token_post</th>\n",
       "    </tr>\n",
       "  </thead>\n",
       "  <tbody>\n",
       "    <tr>\n",
       "      <th>0</th>\n",
       "      <td>ooh shiny new commenting!</td>\n",
       "      <td>16</td>\n",
       "      <td>female</td>\n",
       "      <td>25</td>\n",
       "      <td>0</td>\n",
       "      <td>ooh shiny new commenting!</td>\n",
       "      <td>25</td>\n",
       "      <td>[ooh, shiny, new, commenting!]</td>\n",
       "    </tr>\n",
       "    <tr>\n",
       "      <th>1</th>\n",
       "      <td>so wuts up? today i had the parade. suked. but...</td>\n",
       "      <td>14</td>\n",
       "      <td>male</td>\n",
       "      <td>245</td>\n",
       "      <td>0</td>\n",
       "      <td>wuts up? today parade. suked. wasnt bad. im ba...</td>\n",
       "      <td>163</td>\n",
       "      <td>[wuts, up?, today, parade., suked., wasnt, bad...</td>\n",
       "    </tr>\n",
       "    <tr>\n",
       "      <th>2</th>\n",
       "      <td>i don't know about anyone else anymore, but i'...</td>\n",
       "      <td>24</td>\n",
       "      <td>female</td>\n",
       "      <td>462</td>\n",
       "      <td>1</td>\n",
       "      <td>don't know anymore, i'm concerned everyday. wa...</td>\n",
       "      <td>305</td>\n",
       "      <td>[don't, know, anymore,, i'm, concerned, everyd...</td>\n",
       "    </tr>\n",
       "    <tr>\n",
       "      <th>3</th>\n",
       "      <td>urlLink    another roof-top sunset  Posted by ...</td>\n",
       "      <td>24</td>\n",
       "      <td>male</td>\n",
       "      <td>50</td>\n",
       "      <td>1</td>\n",
       "      <td>urlLink roof-top sunset Posted Paul</td>\n",
       "      <td>35</td>\n",
       "      <td>[urlLink, roof-top, sunset, Posted, Paul]</td>\n",
       "    </tr>\n",
       "    <tr>\n",
       "      <th>4</th>\n",
       "      <td>gawd i luv my nanny!  she's absolutely the gre...</td>\n",
       "      <td>23</td>\n",
       "      <td>female</td>\n",
       "      <td>3656</td>\n",
       "      <td>1</td>\n",
       "      <td>gawd luv nanny! she's absolutely greatest woma...</td>\n",
       "      <td>2009</td>\n",
       "      <td>[gawd, luv, nanny!, she's, absolutely, greates...</td>\n",
       "    </tr>\n",
       "  </tbody>\n",
       "</table>\n",
       "</div>"
      ],
      "text/plain": [
       "                                                post  age  gender  length  \\\n",
       "0                          ooh shiny new commenting!   16  female      25   \n",
       "1  so wuts up? today i had the parade. suked. but...   14    male     245   \n",
       "2  i don't know about anyone else anymore, but i'...   24  female     462   \n",
       "3  urlLink    another roof-top sunset  Posted by ...   24    male      50   \n",
       "4  gawd i luv my nanny!  she's absolutely the gre...   23  female    3656   \n",
       "\n",
       "   age_class                                           new_post  new_length  \\\n",
       "0          0                          ooh shiny new commenting!          25   \n",
       "1          0  wuts up? today parade. suked. wasnt bad. im ba...         163   \n",
       "2          1  don't know anymore, i'm concerned everyday. wa...         305   \n",
       "3          1                urlLink roof-top sunset Posted Paul          35   \n",
       "4          1  gawd luv nanny! she's absolutely greatest woma...        2009   \n",
       "\n",
       "                                          token_post  \n",
       "0                     [ooh, shiny, new, commenting!]  \n",
       "1  [wuts, up?, today, parade., suked., wasnt, bad...  \n",
       "2  [don't, know, anymore,, i'm, concerned, everyd...  \n",
       "3          [urlLink, roof-top, sunset, Posted, Paul]  \n",
       "4  [gawd, luv, nanny!, she's, absolutely, greates...  "
      ]
     },
     "execution_count": 148,
     "metadata": {},
     "output_type": "execute_result"
    }
   ],
   "source": [
    "train.head()"
   ]
  },
  {
   "cell_type": "code",
   "execution_count": 150,
   "metadata": {},
   "outputs": [],
   "source": [
    "# Stemmer\n",
    "from nltk.stem.porter import PorterStemmer\n",
    "stemmer = PorterStemmer()\n",
    "\n",
    "def word_stemmer(text):\n",
    "    return stemmer.stem(text)\n",
    "    \n",
    "train['stemming_post'] = train['new_post'].apply(word_stemmer)    "
   ]
  },
  {
   "attachments": {},
   "cell_type": "markdown",
   "metadata": {},
   "source": [
    "# TEST"
   ]
  },
  {
   "cell_type": "code",
   "execution_count": 42,
   "metadata": {},
   "outputs": [
    {
     "name": "stdout",
     "output_type": "stream",
     "text": [
      "                                                post  age  gender\n",
      "0  Thabo admits defeat on quiet diplomacy  Mbeki ...   27    male\n",
      "1  Brainbench welcomes its 5 millionth subscriber...   25    male\n",
      "2  Even though the air in Jerusalem is dry, it is...   23  female\n",
      "3  there's nothing else more embarassing in life ...   25  female\n",
      "4  Today I had a glass artist over for a firing. ...   38  female\n",
      "\n",
      "(131703, 3)\n"
     ]
    }
   ],
   "source": [
    "# Import data\n",
    "test = pd.read_json('test.json')\n",
    "\n",
    "# Let's have a look at out data\n",
    "print(test.head())\n",
    "print('')\n",
    "print(test.shape)"
   ]
  },
  {
   "cell_type": "code",
   "execution_count": 43,
   "metadata": {},
   "outputs": [
    {
     "data": {
      "text/plain": [
       "24    15402\n",
       "17    15300\n",
       "23    14205\n",
       "16    13523\n",
       "25    13196\n",
       "26    10931\n",
       "27     8840\n",
       "15     7878\n",
       "14     5199\n",
       "34     4233\n",
       "35     3510\n",
       "33     3473\n",
       "36     2887\n",
       "13     2511\n",
       "37     1871\n",
       "38     1519\n",
       "39     1074\n",
       "40     1024\n",
       "45      910\n",
       "43      852\n",
       "41      733\n",
       "48      721\n",
       "42      576\n",
       "46      517\n",
       "47      447\n",
       "44      371\n",
       "Name: age, dtype: int64"
      ]
     },
     "execution_count": 43,
     "metadata": {},
     "output_type": "execute_result"
    }
   ],
   "source": [
    "test.age.value_counts()"
   ]
  }
 ],
 "metadata": {
  "kernelspec": {
   "display_name": "base",
   "language": "python",
   "name": "python3"
  },
  "language_info": {
   "codemirror_mode": {
    "name": "ipython",
    "version": 3
   },
   "file_extension": ".py",
   "mimetype": "text/x-python",
   "name": "python",
   "nbconvert_exporter": "python",
   "pygments_lexer": "ipython3",
   "version": "3.9.12"
  },
  "orig_nbformat": 4
 },
 "nbformat": 4,
 "nbformat_minor": 2
}
