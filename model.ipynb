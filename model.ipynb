{
 "cells": [
  {
   "cell_type": "markdown",
   "metadata": {},
   "source": [
    "# Requirements"
   ]
  },
  {
   "cell_type": "code",
   "execution_count": 5,
   "metadata": {},
   "outputs": [],
   "source": [
    "# Required libraries.\n",
    "import pandas as pd\n",
    "import json\n",
    "import numpy as np\n",
    "import matplotlib.pyplot as plt\n",
    "import spacy\n",
    "import string\n",
    "import nltk\n",
    "from nltk.corpus import stopwords\n",
    "import warnings\n",
    "warnings.filterwarnings(\"ignore\")\n",
    "from spacy import tokenizer\n",
    "from spacy.lang.en import English\n",
    "nlp = English()\n",
    "tkz = tokenizer.Tokenizer(nlp.vocab)\n",
    "from tqdm import tqdm\n",
    "from nltk.tokenize import sent_tokenize\n",
    "import seaborn as sns\n",
    "import plotly.graph_objects as go\n",
    "import plotly.express as px\n",
    "import re\n",
    "from bs4 import BeautifulSoup\n",
    "import plotly.io as pio\n",
    "from plotly.subplots import make_subplots\n",
    "import plotly.figure_factory as ff\n",
    "import unicodedata\n",
    "import pickle"
   ]
  },
  {
   "cell_type": "markdown",
   "metadata": {},
   "source": [
    "# The Model(s)"
   ]
  },
  {
   "cell_type": "code",
   "execution_count": 8,
   "metadata": {},
   "outputs": [
    {
     "data": {
      "text/html": [
       "<div>\n",
       "<style scoped>\n",
       "    .dataframe tbody tr th:only-of-type {\n",
       "        vertical-align: middle;\n",
       "    }\n",
       "\n",
       "    .dataframe tbody tr th {\n",
       "        vertical-align: top;\n",
       "    }\n",
       "\n",
       "    .dataframe thead th {\n",
       "        text-align: right;\n",
       "    }\n",
       "</style>\n",
       "<table border=\"1\" class=\"dataframe\">\n",
       "  <thead>\n",
       "    <tr style=\"text-align: right;\">\n",
       "      <th></th>\n",
       "      <th>post</th>\n",
       "      <th>age</th>\n",
       "      <th>gender</th>\n",
       "      <th>embedding</th>\n",
       "    </tr>\n",
       "  </thead>\n",
       "  <tbody>\n",
       "    <tr>\n",
       "      <th>0</th>\n",
       "      <td>ooh shiny new commenting</td>\n",
       "      <td>16</td>\n",
       "      <td>female</td>\n",
       "      <td>[-0.18770814, -0.13998552, 0.019073976, 0.0225...</td>\n",
       "    </tr>\n",
       "    <tr>\n",
       "      <th>1</th>\n",
       "      <td>today parade suked wasnt bad band year battle ...</td>\n",
       "      <td>14</td>\n",
       "      <td>male</td>\n",
       "      <td>[-0.110725485, 0.043310776, 0.020091565, -0.06...</td>\n",
       "    </tr>\n",
       "    <tr>\n",
       "      <th>2</th>\n",
       "      <td>know anymore concerned everyday want bold face...</td>\n",
       "      <td>24</td>\n",
       "      <td>female</td>\n",
       "      <td>[-0.08226248, -0.03889151, 0.029810807, 0.0900...</td>\n",
       "    </tr>\n",
       "    <tr>\n",
       "      <th>3</th>\n",
       "      <td>roof sunset posted paul</td>\n",
       "      <td>24</td>\n",
       "      <td>male</td>\n",
       "      <td>[-0.046943568, 0.13227944, 0.02199171, 0.00461...</td>\n",
       "    </tr>\n",
       "    <tr>\n",
       "      <th>4</th>\n",
       "      <td>god love nanny absolutely greatest woman earth...</td>\n",
       "      <td>23</td>\n",
       "      <td>female</td>\n",
       "      <td>[-0.04256986, -0.072457716, 0.005980614, 0.014...</td>\n",
       "    </tr>\n",
       "    <tr>\n",
       "      <th>...</th>\n",
       "      <td>...</td>\n",
       "      <td>...</td>\n",
       "      <td>...</td>\n",
       "      <td>...</td>\n",
       "    </tr>\n",
       "    <tr>\n",
       "      <th>99995</th>\n",
       "      <td>wauh exam season surrounding tense amportant e...</td>\n",
       "      <td>24</td>\n",
       "      <td>female</td>\n",
       "      <td>[-0.006393074, 0.03347828, 0.033901136, -0.021...</td>\n",
       "    </tr>\n",
       "    <tr>\n",
       "      <th>99996</th>\n",
       "      <td>u n shows s need half intelligent person knows...</td>\n",
       "      <td>24</td>\n",
       "      <td>male</td>\n",
       "      <td>[-0.03396106, -0.028289719, 0.0066081965, -0.0...</td>\n",
       "    </tr>\n",
       "    <tr>\n",
       "      <th>99997</th>\n",
       "      <td>outta sight outta mind outta heart yeah right ...</td>\n",
       "      <td>35</td>\n",
       "      <td>male</td>\n",
       "      <td>[-0.017426101, -0.069821574, 0.055012133, 0.04...</td>\n",
       "    </tr>\n",
       "    <tr>\n",
       "      <th>99998</th>\n",
       "      <td>ding dong nami na guid sang blogger ah hehe es...</td>\n",
       "      <td>26</td>\n",
       "      <td>male</td>\n",
       "      <td>[-0.07841086, 0.030480236, 0.041061677, -0.012...</td>\n",
       "    </tr>\n",
       "    <tr>\n",
       "      <th>99999</th>\n",
       "      <td>ve got tomorrow procrastinating ways caught se...</td>\n",
       "      <td>23</td>\n",
       "      <td>male</td>\n",
       "      <td>[-0.10636847, -0.0056297095, 0.09015837, 0.007...</td>\n",
       "    </tr>\n",
       "  </tbody>\n",
       "</table>\n",
       "<p>100000 rows × 4 columns</p>\n",
       "</div>"
      ],
      "text/plain": [
       "                                                    post  age  gender  \\\n",
       "0                               ooh shiny new commenting   16  female   \n",
       "1      today parade suked wasnt bad band year battle ...   14    male   \n",
       "2      know anymore concerned everyday want bold face...   24  female   \n",
       "3                                roof sunset posted paul   24    male   \n",
       "4      god love nanny absolutely greatest woman earth...   23  female   \n",
       "...                                                  ...  ...     ...   \n",
       "99995  wauh exam season surrounding tense amportant e...   24  female   \n",
       "99996  u n shows s need half intelligent person knows...   24    male   \n",
       "99997  outta sight outta mind outta heart yeah right ...   35    male   \n",
       "99998  ding dong nami na guid sang blogger ah hehe es...   26    male   \n",
       "99999  ve got tomorrow procrastinating ways caught se...   23    male   \n",
       "\n",
       "                                               embedding  \n",
       "0      [-0.18770814, -0.13998552, 0.019073976, 0.0225...  \n",
       "1      [-0.110725485, 0.043310776, 0.020091565, -0.06...  \n",
       "2      [-0.08226248, -0.03889151, 0.029810807, 0.0900...  \n",
       "3      [-0.046943568, 0.13227944, 0.02199171, 0.00461...  \n",
       "4      [-0.04256986, -0.072457716, 0.005980614, 0.014...  \n",
       "...                                                  ...  \n",
       "99995  [-0.006393074, 0.03347828, 0.033901136, -0.021...  \n",
       "99996  [-0.03396106, -0.028289719, 0.0066081965, -0.0...  \n",
       "99997  [-0.017426101, -0.069821574, 0.055012133, 0.04...  \n",
       "99998  [-0.07841086, 0.030480236, 0.041061677, -0.012...  \n",
       "99999  [-0.10636847, -0.0056297095, 0.09015837, 0.007...  \n",
       "\n",
       "[100000 rows x 4 columns]"
      ]
     },
     "execution_count": 8,
     "metadata": {},
     "output_type": "execute_result"
    }
   ],
   "source": [
    "# Import dataset with the embedding\n",
    "\n",
    "embedding1 = pd.read_pickle('/Users/simonefacchiano/Desktop/Data Science/SL/Project/embedding_100k.pkl')\n",
    "embedding1 = embedding1[['post', 'age', 'gender', 'embedding']]\n",
    "embedding1"
   ]
  },
  {
   "cell_type": "code",
   "execution_count": 9,
   "metadata": {},
   "outputs": [
    {
     "data": {
      "text/html": [
       "<div>\n",
       "<style scoped>\n",
       "    .dataframe tbody tr th:only-of-type {\n",
       "        vertical-align: middle;\n",
       "    }\n",
       "\n",
       "    .dataframe tbody tr th {\n",
       "        vertical-align: top;\n",
       "    }\n",
       "\n",
       "    .dataframe thead th {\n",
       "        text-align: right;\n",
       "    }\n",
       "</style>\n",
       "<table border=\"1\" class=\"dataframe\">\n",
       "  <thead>\n",
       "    <tr style=\"text-align: right;\">\n",
       "      <th></th>\n",
       "      <th>post</th>\n",
       "      <th>age</th>\n",
       "      <th>gender</th>\n",
       "      <th>embedding</th>\n",
       "    </tr>\n",
       "  </thead>\n",
       "  <tbody>\n",
       "    <tr>\n",
       "      <th>100000</th>\n",
       "      <td>love test test test non stop cant stop testing...</td>\n",
       "      <td>16</td>\n",
       "      <td>male</td>\n",
       "      <td>[-0.057716005, -0.04005825, -0.002310888, -0.0...</td>\n",
       "    </tr>\n",
       "    <tr>\n",
       "      <th>100001</th>\n",
       "      <td>lol yay going movieworld soon happy oh happy t...</td>\n",
       "      <td>14</td>\n",
       "      <td>female</td>\n",
       "      <td>[-0.041464932, -0.034795586, 0.048872694, 0.00...</td>\n",
       "    </tr>\n",
       "    <tr>\n",
       "      <th>100002</th>\n",
       "      <td>tamer ziara associated press writer rafah gaza...</td>\n",
       "      <td>27</td>\n",
       "      <td>male</td>\n",
       "      <td>[-0.024696432, 0.036157, -0.046597987, 0.06194...</td>\n",
       "    </tr>\n",
       "    <tr>\n",
       "      <th>100003</th>\n",
       "      <td>society consisting men women content apply pro...</td>\n",
       "      <td>34</td>\n",
       "      <td>male</td>\n",
       "      <td>[0.039336678, 0.057090227, -0.011589597, -0.00...</td>\n",
       "    </tr>\n",
       "    <tr>\n",
       "      <th>100004</th>\n",
       "      <td>ve blown away entire evening reaping fruits fi...</td>\n",
       "      <td>17</td>\n",
       "      <td>male</td>\n",
       "      <td>[0.020673048, -0.057360034, -0.02444625, -0.00...</td>\n",
       "    </tr>\n",
       "    <tr>\n",
       "      <th>...</th>\n",
       "      <td>...</td>\n",
       "      <td>...</td>\n",
       "      <td>...</td>\n",
       "      <td>...</td>\n",
       "    </tr>\n",
       "    <tr>\n",
       "      <th>199995</th>\n",
       "      <td>hmm says d drink wow sound like frilly drinks ...</td>\n",
       "      <td>24</td>\n",
       "      <td>male</td>\n",
       "      <td>[-0.013961518, -0.0123876715, 0.05635563, 0.05...</td>\n",
       "    </tr>\n",
       "    <tr>\n",
       "      <th>199996</th>\n",
       "      <td>shopping saturday target saw mother son baseba...</td>\n",
       "      <td>25</td>\n",
       "      <td>male</td>\n",
       "      <td>[-0.06175793, 0.05059001, -0.013568009, -0.032...</td>\n",
       "    </tr>\n",
       "    <tr>\n",
       "      <th>199997</th>\n",
       "      <td>monday monday weeks greece sunshine pack thing...</td>\n",
       "      <td>27</td>\n",
       "      <td>female</td>\n",
       "      <td>[-0.02756931, -0.0027997827, 0.0756554, 0.0211...</td>\n",
       "    </tr>\n",
       "    <tr>\n",
       "      <th>199998</th>\n",
       "      <td>good news far spoke nurse morning asked batter...</td>\n",
       "      <td>33</td>\n",
       "      <td>male</td>\n",
       "      <td>[-0.009163862, 0.015796268, 0.07616058, 0.0500...</td>\n",
       "    </tr>\n",
       "    <tr>\n",
       "      <th>199999</th>\n",
       "      <td>hope looks blog cuz come going wrong place swi...</td>\n",
       "      <td>23</td>\n",
       "      <td>male</td>\n",
       "      <td>[-0.037286524, -0.10088909, 0.01105549, -0.005...</td>\n",
       "    </tr>\n",
       "  </tbody>\n",
       "</table>\n",
       "<p>100000 rows × 4 columns</p>\n",
       "</div>"
      ],
      "text/plain": [
       "                                                     post  age  gender  \\\n",
       "100000  love test test test non stop cant stop testing...   16    male   \n",
       "100001  lol yay going movieworld soon happy oh happy t...   14  female   \n",
       "100002  tamer ziara associated press writer rafah gaza...   27    male   \n",
       "100003  society consisting men women content apply pro...   34    male   \n",
       "100004  ve blown away entire evening reaping fruits fi...   17    male   \n",
       "...                                                   ...  ...     ...   \n",
       "199995  hmm says d drink wow sound like frilly drinks ...   24    male   \n",
       "199996  shopping saturday target saw mother son baseba...   25    male   \n",
       "199997  monday monday weeks greece sunshine pack thing...   27  female   \n",
       "199998  good news far spoke nurse morning asked batter...   33    male   \n",
       "199999  hope looks blog cuz come going wrong place swi...   23    male   \n",
       "\n",
       "                                                embedding  \n",
       "100000  [-0.057716005, -0.04005825, -0.002310888, -0.0...  \n",
       "100001  [-0.041464932, -0.034795586, 0.048872694, 0.00...  \n",
       "100002  [-0.024696432, 0.036157, -0.046597987, 0.06194...  \n",
       "100003  [0.039336678, 0.057090227, -0.011589597, -0.00...  \n",
       "100004  [0.020673048, -0.057360034, -0.02444625, -0.00...  \n",
       "...                                                   ...  \n",
       "199995  [-0.013961518, -0.0123876715, 0.05635563, 0.05...  \n",
       "199996  [-0.06175793, 0.05059001, -0.013568009, -0.032...  \n",
       "199997  [-0.02756931, -0.0027997827, 0.0756554, 0.0211...  \n",
       "199998  [-0.009163862, 0.015796268, 0.07616058, 0.0500...  \n",
       "199999  [-0.037286524, -0.10088909, 0.01105549, -0.005...  \n",
       "\n",
       "[100000 rows x 4 columns]"
      ]
     },
     "execution_count": 9,
     "metadata": {},
     "output_type": "execute_result"
    }
   ],
   "source": [
    "embedding2 = pd.read_pickle('/Users/simonefacchiano/Desktop/Data Science/SL/Project/embedding_100k_2.pkl')\n",
    "embedding2 = embedding2[['post', 'age', 'gender', 'embedding']]\n",
    "embedding2"
   ]
  },
  {
   "cell_type": "code",
   "execution_count": 10,
   "metadata": {},
   "outputs": [
    {
     "data": {
      "text/html": [
       "<div>\n",
       "<style scoped>\n",
       "    .dataframe tbody tr th:only-of-type {\n",
       "        vertical-align: middle;\n",
       "    }\n",
       "\n",
       "    .dataframe tbody tr th {\n",
       "        vertical-align: top;\n",
       "    }\n",
       "\n",
       "    .dataframe thead th {\n",
       "        text-align: right;\n",
       "    }\n",
       "</style>\n",
       "<table border=\"1\" class=\"dataframe\">\n",
       "  <thead>\n",
       "    <tr style=\"text-align: right;\">\n",
       "      <th></th>\n",
       "      <th>post</th>\n",
       "      <th>age</th>\n",
       "      <th>gender</th>\n",
       "      <th>embedding</th>\n",
       "    </tr>\n",
       "  </thead>\n",
       "  <tbody>\n",
       "    <tr>\n",
       "      <th>0</th>\n",
       "      <td>ooh shiny new commenting</td>\n",
       "      <td>16</td>\n",
       "      <td>female</td>\n",
       "      <td>[-0.18770814, -0.13998552, 0.019073976, 0.0225...</td>\n",
       "    </tr>\n",
       "    <tr>\n",
       "      <th>1</th>\n",
       "      <td>today parade suked wasnt bad band year battle ...</td>\n",
       "      <td>14</td>\n",
       "      <td>male</td>\n",
       "      <td>[-0.110725485, 0.043310776, 0.020091565, -0.06...</td>\n",
       "    </tr>\n",
       "    <tr>\n",
       "      <th>2</th>\n",
       "      <td>know anymore concerned everyday want bold face...</td>\n",
       "      <td>24</td>\n",
       "      <td>female</td>\n",
       "      <td>[-0.08226248, -0.03889151, 0.029810807, 0.0900...</td>\n",
       "    </tr>\n",
       "    <tr>\n",
       "      <th>3</th>\n",
       "      <td>roof sunset posted paul</td>\n",
       "      <td>24</td>\n",
       "      <td>male</td>\n",
       "      <td>[-0.046943568, 0.13227944, 0.02199171, 0.00461...</td>\n",
       "    </tr>\n",
       "    <tr>\n",
       "      <th>4</th>\n",
       "      <td>god love nanny absolutely greatest woman earth...</td>\n",
       "      <td>23</td>\n",
       "      <td>female</td>\n",
       "      <td>[-0.04256986, -0.072457716, 0.005980614, 0.014...</td>\n",
       "    </tr>\n",
       "    <tr>\n",
       "      <th>...</th>\n",
       "      <td>...</td>\n",
       "      <td>...</td>\n",
       "      <td>...</td>\n",
       "      <td>...</td>\n",
       "    </tr>\n",
       "    <tr>\n",
       "      <th>199995</th>\n",
       "      <td>hmm says d drink wow sound like frilly drinks ...</td>\n",
       "      <td>24</td>\n",
       "      <td>male</td>\n",
       "      <td>[-0.013961518, -0.0123876715, 0.05635563, 0.05...</td>\n",
       "    </tr>\n",
       "    <tr>\n",
       "      <th>199996</th>\n",
       "      <td>shopping saturday target saw mother son baseba...</td>\n",
       "      <td>25</td>\n",
       "      <td>male</td>\n",
       "      <td>[-0.06175793, 0.05059001, -0.013568009, -0.032...</td>\n",
       "    </tr>\n",
       "    <tr>\n",
       "      <th>199997</th>\n",
       "      <td>monday monday weeks greece sunshine pack thing...</td>\n",
       "      <td>27</td>\n",
       "      <td>female</td>\n",
       "      <td>[-0.02756931, -0.0027997827, 0.0756554, 0.0211...</td>\n",
       "    </tr>\n",
       "    <tr>\n",
       "      <th>199998</th>\n",
       "      <td>good news far spoke nurse morning asked batter...</td>\n",
       "      <td>33</td>\n",
       "      <td>male</td>\n",
       "      <td>[-0.009163862, 0.015796268, 0.07616058, 0.0500...</td>\n",
       "    </tr>\n",
       "    <tr>\n",
       "      <th>199999</th>\n",
       "      <td>hope looks blog cuz come going wrong place swi...</td>\n",
       "      <td>23</td>\n",
       "      <td>male</td>\n",
       "      <td>[-0.037286524, -0.10088909, 0.01105549, -0.005...</td>\n",
       "    </tr>\n",
       "  </tbody>\n",
       "</table>\n",
       "<p>200000 rows × 4 columns</p>\n",
       "</div>"
      ],
      "text/plain": [
       "                                                     post  age  gender  \\\n",
       "0                                ooh shiny new commenting   16  female   \n",
       "1       today parade suked wasnt bad band year battle ...   14    male   \n",
       "2       know anymore concerned everyday want bold face...   24  female   \n",
       "3                                 roof sunset posted paul   24    male   \n",
       "4       god love nanny absolutely greatest woman earth...   23  female   \n",
       "...                                                   ...  ...     ...   \n",
       "199995  hmm says d drink wow sound like frilly drinks ...   24    male   \n",
       "199996  shopping saturday target saw mother son baseba...   25    male   \n",
       "199997  monday monday weeks greece sunshine pack thing...   27  female   \n",
       "199998  good news far spoke nurse morning asked batter...   33    male   \n",
       "199999  hope looks blog cuz come going wrong place swi...   23    male   \n",
       "\n",
       "                                                embedding  \n",
       "0       [-0.18770814, -0.13998552, 0.019073976, 0.0225...  \n",
       "1       [-0.110725485, 0.043310776, 0.020091565, -0.06...  \n",
       "2       [-0.08226248, -0.03889151, 0.029810807, 0.0900...  \n",
       "3       [-0.046943568, 0.13227944, 0.02199171, 0.00461...  \n",
       "4       [-0.04256986, -0.072457716, 0.005980614, 0.014...  \n",
       "...                                                   ...  \n",
       "199995  [-0.013961518, -0.0123876715, 0.05635563, 0.05...  \n",
       "199996  [-0.06175793, 0.05059001, -0.013568009, -0.032...  \n",
       "199997  [-0.02756931, -0.0027997827, 0.0756554, 0.0211...  \n",
       "199998  [-0.009163862, 0.015796268, 0.07616058, 0.0500...  \n",
       "199999  [-0.037286524, -0.10088909, 0.01105549, -0.005...  \n",
       "\n",
       "[200000 rows x 4 columns]"
      ]
     },
     "execution_count": 10,
     "metadata": {},
     "output_type": "execute_result"
    }
   ],
   "source": [
    "embedding = pd.concat([embedding1, embedding2])\n",
    "embedding"
   ]
  },
  {
   "cell_type": "code",
   "execution_count": 30,
   "metadata": {},
   "outputs": [],
   "source": [
    "# Import dataset with additional features (TODO: metti tutto insieme nel file di preprocessing)\n",
    "features = pd.read_pickle('/Users/simonefacchiano/Desktop/Data Science/SL/Project/train_features.pkl')\n",
    "features = features[['has_young_word', 'word_count', 'has_emoticon', 'has_punctuation', 'has_URL']]\n",
    "features = features[:200000]"
   ]
  },
  {
   "cell_type": "markdown",
   "metadata": {},
   "source": [
    "### Fix the labels for the model"
   ]
  },
  {
   "cell_type": "code",
   "execution_count": 12,
   "metadata": {},
   "outputs": [],
   "source": [
    "# Notice: there is a little imbalancement here, due to the fact that we are working with the *first* 100k rows of the original dataset. Keep this in mind\n",
    "\n",
    "embedding['age_class'] = pd.cut(\n",
    "        embedding[\"age\"],\n",
    "        bins=[12, 18, 28, 50],\n",
    "        labels=[0, 1, 2]\n",
    "    ).astype(\"int\")"
   ]
  },
  {
   "cell_type": "code",
   "execution_count": 13,
   "metadata": {},
   "outputs": [],
   "source": [
    "embedding['gender'] = embedding['gender'].map({'male': 1, 'female': 0})"
   ]
  },
  {
   "cell_type": "code",
   "execution_count": 14,
   "metadata": {},
   "outputs": [],
   "source": [
    "# Select and re-order the columns for a better visualization:\n",
    "embedding = embedding[['post', 'embedding', 'gender', 'age_class']]"
   ]
  },
  {
   "cell_type": "code",
   "execution_count": 16,
   "metadata": {},
   "outputs": [
    {
     "data": {
      "text/html": [
       "<div>\n",
       "<style scoped>\n",
       "    .dataframe tbody tr th:only-of-type {\n",
       "        vertical-align: middle;\n",
       "    }\n",
       "\n",
       "    .dataframe tbody tr th {\n",
       "        vertical-align: top;\n",
       "    }\n",
       "\n",
       "    .dataframe thead th {\n",
       "        text-align: right;\n",
       "    }\n",
       "</style>\n",
       "<table border=\"1\" class=\"dataframe\">\n",
       "  <thead>\n",
       "    <tr style=\"text-align: right;\">\n",
       "      <th></th>\n",
       "      <th>post</th>\n",
       "      <th>embedding</th>\n",
       "      <th>gender</th>\n",
       "      <th>age_class</th>\n",
       "    </tr>\n",
       "  </thead>\n",
       "  <tbody>\n",
       "    <tr>\n",
       "      <th>0</th>\n",
       "      <td>ooh shiny new commenting</td>\n",
       "      <td>[-0.18770814, -0.13998552, 0.019073976, 0.0225...</td>\n",
       "      <td>0</td>\n",
       "      <td>0</td>\n",
       "    </tr>\n",
       "    <tr>\n",
       "      <th>1</th>\n",
       "      <td>today parade suked wasnt bad band year battle ...</td>\n",
       "      <td>[-0.110725485, 0.043310776, 0.020091565, -0.06...</td>\n",
       "      <td>1</td>\n",
       "      <td>0</td>\n",
       "    </tr>\n",
       "    <tr>\n",
       "      <th>2</th>\n",
       "      <td>know anymore concerned everyday want bold face...</td>\n",
       "      <td>[-0.08226248, -0.03889151, 0.029810807, 0.0900...</td>\n",
       "      <td>0</td>\n",
       "      <td>1</td>\n",
       "    </tr>\n",
       "    <tr>\n",
       "      <th>3</th>\n",
       "      <td>roof sunset posted paul</td>\n",
       "      <td>[-0.046943568, 0.13227944, 0.02199171, 0.00461...</td>\n",
       "      <td>1</td>\n",
       "      <td>1</td>\n",
       "    </tr>\n",
       "    <tr>\n",
       "      <th>4</th>\n",
       "      <td>god love nanny absolutely greatest woman earth...</td>\n",
       "      <td>[-0.04256986, -0.072457716, 0.005980614, 0.014...</td>\n",
       "      <td>0</td>\n",
       "      <td>1</td>\n",
       "    </tr>\n",
       "    <tr>\n",
       "      <th>...</th>\n",
       "      <td>...</td>\n",
       "      <td>...</td>\n",
       "      <td>...</td>\n",
       "      <td>...</td>\n",
       "    </tr>\n",
       "    <tr>\n",
       "      <th>199995</th>\n",
       "      <td>hmm says d drink wow sound like frilly drinks ...</td>\n",
       "      <td>[-0.013961518, -0.0123876715, 0.05635563, 0.05...</td>\n",
       "      <td>1</td>\n",
       "      <td>1</td>\n",
       "    </tr>\n",
       "    <tr>\n",
       "      <th>199996</th>\n",
       "      <td>shopping saturday target saw mother son baseba...</td>\n",
       "      <td>[-0.06175793, 0.05059001, -0.013568009, -0.032...</td>\n",
       "      <td>1</td>\n",
       "      <td>1</td>\n",
       "    </tr>\n",
       "    <tr>\n",
       "      <th>199997</th>\n",
       "      <td>monday monday weeks greece sunshine pack thing...</td>\n",
       "      <td>[-0.02756931, -0.0027997827, 0.0756554, 0.0211...</td>\n",
       "      <td>0</td>\n",
       "      <td>1</td>\n",
       "    </tr>\n",
       "    <tr>\n",
       "      <th>199998</th>\n",
       "      <td>good news far spoke nurse morning asked batter...</td>\n",
       "      <td>[-0.009163862, 0.015796268, 0.07616058, 0.0500...</td>\n",
       "      <td>1</td>\n",
       "      <td>2</td>\n",
       "    </tr>\n",
       "    <tr>\n",
       "      <th>199999</th>\n",
       "      <td>hope looks blog cuz come going wrong place swi...</td>\n",
       "      <td>[-0.037286524, -0.10088909, 0.01105549, -0.005...</td>\n",
       "      <td>1</td>\n",
       "      <td>1</td>\n",
       "    </tr>\n",
       "  </tbody>\n",
       "</table>\n",
       "<p>200000 rows × 4 columns</p>\n",
       "</div>"
      ],
      "text/plain": [
       "                                                     post  \\\n",
       "0                                ooh shiny new commenting   \n",
       "1       today parade suked wasnt bad band year battle ...   \n",
       "2       know anymore concerned everyday want bold face...   \n",
       "3                                 roof sunset posted paul   \n",
       "4       god love nanny absolutely greatest woman earth...   \n",
       "...                                                   ...   \n",
       "199995  hmm says d drink wow sound like frilly drinks ...   \n",
       "199996  shopping saturday target saw mother son baseba...   \n",
       "199997  monday monday weeks greece sunshine pack thing...   \n",
       "199998  good news far spoke nurse morning asked batter...   \n",
       "199999  hope looks blog cuz come going wrong place swi...   \n",
       "\n",
       "                                                embedding  gender  age_class  \n",
       "0       [-0.18770814, -0.13998552, 0.019073976, 0.0225...       0          0  \n",
       "1       [-0.110725485, 0.043310776, 0.020091565, -0.06...       1          0  \n",
       "2       [-0.08226248, -0.03889151, 0.029810807, 0.0900...       0          1  \n",
       "3       [-0.046943568, 0.13227944, 0.02199171, 0.00461...       1          1  \n",
       "4       [-0.04256986, -0.072457716, 0.005980614, 0.014...       0          1  \n",
       "...                                                   ...     ...        ...  \n",
       "199995  [-0.013961518, -0.0123876715, 0.05635563, 0.05...       1          1  \n",
       "199996  [-0.06175793, 0.05059001, -0.013568009, -0.032...       1          1  \n",
       "199997  [-0.02756931, -0.0027997827, 0.0756554, 0.0211...       0          1  \n",
       "199998  [-0.009163862, 0.015796268, 0.07616058, 0.0500...       1          2  \n",
       "199999  [-0.037286524, -0.10088909, 0.01105549, -0.005...       1          1  \n",
       "\n",
       "[200000 rows x 4 columns]"
      ]
     },
     "execution_count": 16,
     "metadata": {},
     "output_type": "execute_result"
    }
   ],
   "source": [
    "embedding"
   ]
  },
  {
   "cell_type": "code",
   "execution_count": 116,
   "metadata": {},
   "outputs": [],
   "source": [
    "# features = features[['has_young_word', 'has_punctuation', 'has_URL']]"
   ]
  },
  {
   "cell_type": "code",
   "execution_count": 100,
   "metadata": {},
   "outputs": [
    {
     "data": {
      "text/html": [
       "<div>\n",
       "<style scoped>\n",
       "    .dataframe tbody tr th:only-of-type {\n",
       "        vertical-align: middle;\n",
       "    }\n",
       "\n",
       "    .dataframe tbody tr th {\n",
       "        vertical-align: top;\n",
       "    }\n",
       "\n",
       "    .dataframe thead th {\n",
       "        text-align: right;\n",
       "    }\n",
       "</style>\n",
       "<table border=\"1\" class=\"dataframe\">\n",
       "  <thead>\n",
       "    <tr style=\"text-align: right;\">\n",
       "      <th></th>\n",
       "      <th>post</th>\n",
       "      <th>embedding</th>\n",
       "      <th>gender</th>\n",
       "      <th>age_class</th>\n",
       "      <th>has_young_word</th>\n",
       "      <th>word_count</th>\n",
       "      <th>has_emoticon</th>\n",
       "      <th>has_punctuation</th>\n",
       "      <th>has_URL</th>\n",
       "    </tr>\n",
       "  </thead>\n",
       "  <tbody>\n",
       "    <tr>\n",
       "      <th>0</th>\n",
       "      <td>ooh shiny new commenting</td>\n",
       "      <td>[-0.18770814, -0.13998552, 0.019073976, 0.0225...</td>\n",
       "      <td>0</td>\n",
       "      <td>0</td>\n",
       "      <td>0</td>\n",
       "      <td>4</td>\n",
       "      <td>0</td>\n",
       "      <td>0</td>\n",
       "      <td>0</td>\n",
       "    </tr>\n",
       "    <tr>\n",
       "      <th>1</th>\n",
       "      <td>today parade suked wasnt bad band year battle ...</td>\n",
       "      <td>[-0.110725485, 0.043310776, 0.020091565, -0.06...</td>\n",
       "      <td>1</td>\n",
       "      <td>0</td>\n",
       "      <td>1</td>\n",
       "      <td>48</td>\n",
       "      <td>0</td>\n",
       "      <td>0</td>\n",
       "      <td>0</td>\n",
       "    </tr>\n",
       "    <tr>\n",
       "      <th>2</th>\n",
       "      <td>know anymore concerned everyday want bold face...</td>\n",
       "      <td>[-0.08226248, -0.03889151, 0.029810807, 0.0900...</td>\n",
       "      <td>0</td>\n",
       "      <td>1</td>\n",
       "      <td>1</td>\n",
       "      <td>80</td>\n",
       "      <td>0</td>\n",
       "      <td>1</td>\n",
       "      <td>0</td>\n",
       "    </tr>\n",
       "    <tr>\n",
       "      <th>3</th>\n",
       "      <td>roof sunset posted paul</td>\n",
       "      <td>[-0.046943568, 0.13227944, 0.02199171, 0.00461...</td>\n",
       "      <td>1</td>\n",
       "      <td>1</td>\n",
       "      <td>0</td>\n",
       "      <td>7</td>\n",
       "      <td>0</td>\n",
       "      <td>0</td>\n",
       "      <td>1</td>\n",
       "    </tr>\n",
       "    <tr>\n",
       "      <th>4</th>\n",
       "      <td>god love nanny absolutely greatest woman earth...</td>\n",
       "      <td>[-0.04256986, -0.072457716, 0.005980614, 0.014...</td>\n",
       "      <td>0</td>\n",
       "      <td>1</td>\n",
       "      <td>0</td>\n",
       "      <td>730</td>\n",
       "      <td>0</td>\n",
       "      <td>1</td>\n",
       "      <td>0</td>\n",
       "    </tr>\n",
       "    <tr>\n",
       "      <th>...</th>\n",
       "      <td>...</td>\n",
       "      <td>...</td>\n",
       "      <td>...</td>\n",
       "      <td>...</td>\n",
       "      <td>...</td>\n",
       "      <td>...</td>\n",
       "      <td>...</td>\n",
       "      <td>...</td>\n",
       "      <td>...</td>\n",
       "    </tr>\n",
       "    <tr>\n",
       "      <th>199995</th>\n",
       "      <td>hmm says d drink wow sound like frilly drinks ...</td>\n",
       "      <td>[-0.013961518, -0.0123876715, 0.05635563, 0.05...</td>\n",
       "      <td>1</td>\n",
       "      <td>1</td>\n",
       "      <td>0</td>\n",
       "      <td>64</td>\n",
       "      <td>1</td>\n",
       "      <td>1</td>\n",
       "      <td>0</td>\n",
       "    </tr>\n",
       "    <tr>\n",
       "      <th>199996</th>\n",
       "      <td>shopping saturday target saw mother son baseba...</td>\n",
       "      <td>[-0.06175793, 0.05059001, -0.013568009, -0.032...</td>\n",
       "      <td>1</td>\n",
       "      <td>1</td>\n",
       "      <td>0</td>\n",
       "      <td>199</td>\n",
       "      <td>0</td>\n",
       "      <td>0</td>\n",
       "      <td>0</td>\n",
       "    </tr>\n",
       "    <tr>\n",
       "      <th>199997</th>\n",
       "      <td>monday monday weeks greece sunshine pack thing...</td>\n",
       "      <td>[-0.02756931, -0.0027997827, 0.0756554, 0.0211...</td>\n",
       "      <td>0</td>\n",
       "      <td>1</td>\n",
       "      <td>0</td>\n",
       "      <td>85</td>\n",
       "      <td>0</td>\n",
       "      <td>1</td>\n",
       "      <td>0</td>\n",
       "    </tr>\n",
       "    <tr>\n",
       "      <th>199998</th>\n",
       "      <td>good news far spoke nurse morning asked batter...</td>\n",
       "      <td>[-0.009163862, 0.015796268, 0.07616058, 0.0500...</td>\n",
       "      <td>1</td>\n",
       "      <td>2</td>\n",
       "      <td>0</td>\n",
       "      <td>69</td>\n",
       "      <td>0</td>\n",
       "      <td>0</td>\n",
       "      <td>0</td>\n",
       "    </tr>\n",
       "    <tr>\n",
       "      <th>199999</th>\n",
       "      <td>hope looks blog cuz come going wrong place swi...</td>\n",
       "      <td>[-0.037286524, -0.10088909, 0.01105549, -0.005...</td>\n",
       "      <td>1</td>\n",
       "      <td>1</td>\n",
       "      <td>0</td>\n",
       "      <td>94</td>\n",
       "      <td>0</td>\n",
       "      <td>1</td>\n",
       "      <td>1</td>\n",
       "    </tr>\n",
       "  </tbody>\n",
       "</table>\n",
       "<p>200000 rows × 9 columns</p>\n",
       "</div>"
      ],
      "text/plain": [
       "                                                     post  \\\n",
       "0                                ooh shiny new commenting   \n",
       "1       today parade suked wasnt bad band year battle ...   \n",
       "2       know anymore concerned everyday want bold face...   \n",
       "3                                 roof sunset posted paul   \n",
       "4       god love nanny absolutely greatest woman earth...   \n",
       "...                                                   ...   \n",
       "199995  hmm says d drink wow sound like frilly drinks ...   \n",
       "199996  shopping saturday target saw mother son baseba...   \n",
       "199997  monday monday weeks greece sunshine pack thing...   \n",
       "199998  good news far spoke nurse morning asked batter...   \n",
       "199999  hope looks blog cuz come going wrong place swi...   \n",
       "\n",
       "                                                embedding  gender  age_class  \\\n",
       "0       [-0.18770814, -0.13998552, 0.019073976, 0.0225...       0          0   \n",
       "1       [-0.110725485, 0.043310776, 0.020091565, -0.06...       1          0   \n",
       "2       [-0.08226248, -0.03889151, 0.029810807, 0.0900...       0          1   \n",
       "3       [-0.046943568, 0.13227944, 0.02199171, 0.00461...       1          1   \n",
       "4       [-0.04256986, -0.072457716, 0.005980614, 0.014...       0          1   \n",
       "...                                                   ...     ...        ...   \n",
       "199995  [-0.013961518, -0.0123876715, 0.05635563, 0.05...       1          1   \n",
       "199996  [-0.06175793, 0.05059001, -0.013568009, -0.032...       1          1   \n",
       "199997  [-0.02756931, -0.0027997827, 0.0756554, 0.0211...       0          1   \n",
       "199998  [-0.009163862, 0.015796268, 0.07616058, 0.0500...       1          2   \n",
       "199999  [-0.037286524, -0.10088909, 0.01105549, -0.005...       1          1   \n",
       "\n",
       "        has_young_word  word_count  has_emoticon  has_punctuation  has_URL  \n",
       "0                    0           4             0                0        0  \n",
       "1                    1          48             0                0        0  \n",
       "2                    1          80             0                1        0  \n",
       "3                    0           7             0                0        1  \n",
       "4                    0         730             0                1        0  \n",
       "...                ...         ...           ...              ...      ...  \n",
       "199995               0          64             1                1        0  \n",
       "199996               0         199             0                0        0  \n",
       "199997               0          85             0                1        0  \n",
       "199998               0          69             0                0        0  \n",
       "199999               0          94             0                1        1  \n",
       "\n",
       "[200000 rows x 9 columns]"
      ]
     },
     "execution_count": 100,
     "metadata": {},
     "output_type": "execute_result"
    }
   ],
   "source": [
    "data = pd.concat([embedding, features], axis = 1)\n",
    "data\n",
    "# 200.000 righe"
   ]
  },
  {
   "cell_type": "markdown",
   "metadata": {},
   "source": [
    "### Removing specific rows"
   ]
  },
  {
   "cell_type": "code",
   "execution_count": 229,
   "metadata": {},
   "outputs": [
    {
     "data": {
      "text/plain": [
       "(array([9.0858e+04, 7.2480e+03, 1.2680e+03, 3.3200e+02, 1.2800e+02,\n",
       "        5.5000e+01, 4.0000e+01, 1.7000e+01, 8.0000e+00, 1.7000e+01]),\n",
       " array([   0. ,  498.4,  996.8, 1495.2, 1993.6, 2492. , 2990.4, 3488.8,\n",
       "        3987.2, 4485.6, 4984. ]),\n",
       " <BarContainer object of 10 artists>)"
      ]
     },
     "execution_count": 229,
     "metadata": {},
     "output_type": "execute_result"
    },
    {
     "data": {
      "image/png": "[encoded data removed]",
      "text/plain": [
       "<Figure size 432x288 with 1 Axes>"
      ]
     },
     "metadata": {
      "needs_background": "light"
     },
     "output_type": "display_data"
    }
   ],
   "source": [
    "import matplotlib.pyplot as plt\n",
    "\n",
    "plt.hist(data[data.word_count < 5000].word_count)"
   ]
  },
  {
   "cell_type": "code",
   "execution_count": 59,
   "metadata": {},
   "outputs": [
    {
     "data": {
      "text/plain": [
       "(189417, 9)"
      ]
     },
     "execution_count": 59,
     "metadata": {},
     "output_type": "execute_result"
    }
   ],
   "source": [
    "# Rimuovi le righe con word count inferiore a 5 o superiore a 1000\n",
    "data = data[(data['word_count'] >= 5) & (data['word_count'] <= 1000)]\n",
    "data.shape"
   ]
  },
  {
   "cell_type": "code",
   "execution_count": 47,
   "metadata": {},
   "outputs": [],
   "source": [
    "small_data = data[:10000]"
   ]
  },
  {
   "cell_type": "markdown",
   "metadata": {},
   "source": [
    "# Before we start... most common words per gender"
   ]
  },
  {
   "cell_type": "code",
   "execution_count": 141,
   "metadata": {},
   "outputs": [],
   "source": [
    "from nltk.probability import FreqDist\n",
    "\n",
    "def most_common_words(train):\n",
    "    stop = set(stopwords.words(\"english\"))\n",
    "    corpus = [word for i in train[\"post\"].str.split().values.tolist() for word in i if (word not in stop)]\n",
    "    most_common = FreqDist(corpus).most_common(1000)\n",
    "    words, frequency = [], []\n",
    "    for word, count in most_common:\n",
    "        words.append(word)\n",
    "        frequency.append(count)   \n",
    "    return words #, frequency"
   ]
  },
  {
   "cell_type": "code",
   "execution_count": 146,
   "metadata": {},
   "outputs": [],
   "source": [
    "male_words = most_common_words(data[data.gender == 1])\n",
    "female_words = most_common_words(data[data.gender == 0])\n",
    "\n",
    "popular_male = list(set(male_words) - set(female_words))\n",
    "popular_female = list(set(female_words) - set(male_words))"
   ]
  },
  {
   "cell_type": "code",
   "execution_count": 159,
   "metadata": {},
   "outputs": [],
   "source": [
    "# creaiamo due variabili apposta\n",
    "features['word_male'] = data['post'].str.contains('|'.join(popular_male), case=False, regex=True).astype(int)\n",
    "features['word_female'] = data['post'].str.contains('|'.join(popular_female), case=False, regex=True).astype(int)"
   ]
  },
  {
   "cell_type": "markdown",
   "metadata": {},
   "source": [
    "## Predicting the Gender of the author\n",
    "\n",
    "Note: the genders are balanced"
   ]
  },
  {
   "cell_type": "code",
   "execution_count": 124,
   "metadata": {},
   "outputs": [],
   "source": [
    "# Let's first identify the feature matrix and the labels\n",
    "\n",
    "X = data['embedding'].to_list() # ,'has_young_word', 'word_count', 'has_emoticon', 'has_punctuation', 'has_URL'\n",
    "# X = pd.DataFrame(embedding['embedding'].to_list(), columns=[f'embedding_{i+1}' for i in range(384)])\n",
    "# X = pd.concat([X, features], axis = 1)\n",
    "y = data['gender'].to_list()"
   ]
  },
  {
   "cell_type": "code",
   "execution_count": 125,
   "metadata": {},
   "outputs": [
    {
     "name": "stdout",
     "output_type": "stream",
     "text": [
      "The train set has 160000 rows, while the validation set contains 40000 rows: 80% vs 20%.\n"
     ]
    }
   ],
   "source": [
    "# Create the train & validation sets\n",
    "# In this way, every operation of fine tuning will depend on the data observed in the validation, while the final assessment for the quality of the model will be made on the test set\n",
    "\n",
    "from sklearn.model_selection import train_test_split\n",
    "X_train, X_val, y_train, y_val = train_test_split(X, y, test_size = 0.2, stratify = y) # stratification on the y to avoid class imbalancement\n",
    "\n",
    "print(f'The train set has {len(X_train)} rows, while the validation set contains {len(X_val)} rows: 80% vs 20%.')"
   ]
  },
  {
   "cell_type": "markdown",
   "metadata": {},
   "source": [
    "##### Logistic Regression"
   ]
  },
  {
   "cell_type": "code",
   "execution_count": 126,
   "metadata": {},
   "outputs": [
    {
     "data": {
      "text/plain": [
       "LogisticRegression()"
      ]
     },
     "execution_count": 126,
     "metadata": {},
     "output_type": "execute_result"
    }
   ],
   "source": [
    "# We start with a very simple Logistic Regression to see how it works\n",
    "\n",
    "from sklearn.linear_model import LogisticRegression\n",
    "\n",
    "lr = LogisticRegression()\n",
    "lr.fit(X_train, y_train)"
   ]
  },
  {
   "cell_type": "code",
   "execution_count": 127,
   "metadata": {},
   "outputs": [
    {
     "name": "stdout",
     "output_type": "stream",
     "text": [
      "Logistic Regression Accuracy : 0.644725\n",
      "Logistic Regression Precision: 0.6507093062935699\n",
      "Logistic Regression Recall   : 0.6545062273217613\n"
     ]
    }
   ],
   "source": [
    "from sklearn import metrics\n",
    "\n",
    "predicted = lr.predict(X_val)\n",
    "\n",
    "print(f'Logistic Regression Accuracy : {metrics.accuracy_score(y_val, predicted)}')\n",
    "print(f'Logistic Regression Precision: {metrics.precision_score(y_val, predicted)}')\n",
    "print(f'Logistic Regression Recall   : {metrics.recall_score(y_val, predicted)}')\n",
    "\n",
    "####"
   ]
  },
  {
   "cell_type": "code",
   "execution_count": 128,
   "metadata": {},
   "outputs": [
    {
     "data": {
      "text/plain": [
       "array([[12441,  7165],\n",
       "       [ 7046, 13348]])"
      ]
     },
     "execution_count": 128,
     "metadata": {},
     "output_type": "execute_result"
    }
   ],
   "source": [
    "from sklearn.metrics import confusion_matrix\n",
    "\n",
    "confusion_matrix(y_val, predicted)"
   ]
  },
  {
   "cell_type": "markdown",
   "metadata": {},
   "source": [
    "### Regularization"
   ]
  },
  {
   "cell_type": "code",
   "execution_count": null,
   "metadata": {},
   "outputs": [],
   "source": [
    "from sklearn.model_selection import GridSearchCV\n",
    "\n",
    "param_grid = {\n",
    "    'C': [10],\n",
    "    'penalty': ['l1', 'l2']\n",
    "    #'max_iter': list(range(100, 800, 200)),\n",
    "    #'solver': ['newton-cg', 'lbfgs', 'liblinear', 'sag', 'saga']\n",
    "}\n",
    "lr_search = GridSearchCV(lr, param_grid=param_grid, refit = True, verbose = 3, cv=5)\n",
    "\n",
    "# fitting the model for grid search \n",
    "lr_search.fit(X_train, y_train)\n",
    "lr_search.best_params_\n",
    "# summarize\n",
    "print('Best Accuracy: %.3f' % lr_search.best_score_)\n",
    "print('Config: %s' % lr_search.best_params_)"
   ]
  },
  {
   "cell_type": "code",
   "execution_count": 86,
   "metadata": {},
   "outputs": [
    {
     "name": "stdout",
     "output_type": "stream",
     "text": [
      "Logistic Regression Accuracy : 0.6499049730757048\n"
     ]
    }
   ],
   "source": [
    "lr = LogisticRegression(C = 10, penalty = 'l2')\n",
    "lr.fit(X_train, y_train)\n",
    "\n",
    "predicted = lr.predict(X_val)\n",
    "\n",
    "print(f'Logistic Regression Accuracy : {metrics.accuracy_score(y_val, predicted)}')"
   ]
  },
  {
   "cell_type": "markdown",
   "metadata": {},
   "source": [
    "#### XgBoost"
   ]
  },
  {
   "cell_type": "code",
   "execution_count": 44,
   "metadata": {},
   "outputs": [],
   "source": [
    "import xgboost as xgb"
   ]
  },
  {
   "cell_type": "code",
   "execution_count": 48,
   "metadata": {},
   "outputs": [],
   "source": [
    "X = small_data['embedding'].to_list() # ,'has_young_word', 'word_count', 'has_emoticon', 'has_punctuation', 'has_URL'\n",
    "y = small_data['gender'].to_list()\n",
    "\n",
    "X_train, X_val, y_train, y_val = train_test_split(X, y, test_size = 0.2, stratify = y)"
   ]
  },
  {
   "cell_type": "code",
   "execution_count": 52,
   "metadata": {},
   "outputs": [],
   "source": [
    "# XGBoost (different learning rate)\n",
    "learning_rate_range = np.arange(0.01, 1, 0.1)\n",
    "val_XG = [] \n",
    "train_XG = []\n",
    "for lr in learning_rate_range:\n",
    "    xgb_classifier = xgb.XGBClassifier(eta = lr)\n",
    "    xgb_classifier.fit(X_train, y_train)\n",
    "    train_XG.append(xgb_classifier.score(X_train, y_train))\n",
    "    val_XG.append(xgb_classifier.score(X_val, y_val))"
   ]
  },
  {
   "cell_type": "code",
   "execution_count": 53,
   "metadata": {},
   "outputs": [
    {
     "data": {
      "image/png": "[encoded data removed]",
      "text/plain": [
       "<Figure size 720x504 with 1 Axes>"
      ]
     },
     "metadata": {
      "needs_background": "light"
     },
     "output_type": "display_data"
    }
   ],
   "source": [
    "fig = plt.figure(figsize=(10, 7))\n",
    "plt.plot(learning_rate_range, train_XG, c='orange', label='Train')\n",
    "plt.plot(learning_rate_range, val_XG, c='m', label='Test')\n",
    "plt.xlabel('Learning rate')\n",
    "plt.xticks(learning_rate_range)\n",
    "plt.ylabel('Accuracy score')\n",
    "plt.ylim(0.6, 1)\n",
    "plt.legend(prop={'size': 12}, loc=3)\n",
    "plt.title('Accuracy score vs. Learning rate of XGBoost', size=14)\n",
    "plt.show()    "
   ]
  },
  {
   "cell_type": "markdown",
   "metadata": {},
   "source": [
    "### What if we add features?"
   ]
  },
  {
   "cell_type": "code",
   "execution_count": 160,
   "metadata": {},
   "outputs": [
    {
     "data": {
      "text/plain": [
       "Index(['has_young_word', 'word_count', 'has_emoticon', 'has_punctuation',\n",
       "       'has_URL', 'word_male', 'word_female'],\n",
       "      dtype='object')"
      ]
     },
     "execution_count": 160,
     "metadata": {},
     "output_type": "execute_result"
    }
   ],
   "source": [
    "features.columns"
   ]
  },
  {
   "cell_type": "code",
   "execution_count": 166,
   "metadata": {},
   "outputs": [],
   "source": [
    "X = pd.DataFrame(data['embedding'].to_list(), columns=[f'embedding_{i+1}' for i in range(384)])\n",
    "X = pd.concat([X, features[['word_male']]], axis = 1) # prendiamo solo le emoticon e le parole giovanili come features\n",
    "y = data['gender'].to_list()"
   ]
  },
  {
   "cell_type": "code",
   "execution_count": 167,
   "metadata": {},
   "outputs": [],
   "source": [
    "X_train, X_val, y_train, y_val = train_test_split(X, y, test_size = 0.2, stratify = y)"
   ]
  },
  {
   "cell_type": "code",
   "execution_count": 170,
   "metadata": {},
   "outputs": [
    {
     "data": {
      "text/plain": [
       "LogisticRegression(C=10)"
      ]
     },
     "execution_count": 170,
     "metadata": {},
     "output_type": "execute_result"
    }
   ],
   "source": [
    "lr = LogisticRegression()\n",
    "lr.fit(X_train, y_train)"
   ]
  },
  {
   "cell_type": "code",
   "execution_count": 171,
   "metadata": {},
   "outputs": [
    {
     "name": "stdout",
     "output_type": "stream",
     "text": [
      "Logistic Regression Accuracy : 0.6471\n",
      "Logistic Regression Precision: 0.6542961069602832\n",
      "Logistic Regression Recall   : 0.6526919682259488\n"
     ]
    }
   ],
   "source": [
    "predicted = lr.predict(X_val)\n",
    "\n",
    "print(f'Logistic Regression Accuracy : {metrics.accuracy_score(y_val, predicted)}')\n",
    "print(f'Logistic Regression Precision: {metrics.precision_score(y_val, predicted)}')\n",
    "print(f'Logistic Regression Recall   : {metrics.recall_score(y_val, predicted)}')"
   ]
  },
  {
   "cell_type": "code",
   "execution_count": 236,
   "metadata": {},
   "outputs": [
    {
     "name": "stdout",
     "output_type": "stream",
     "text": [
      "Fitting 5 folds for each of 12 candidates, totalling 60 fits\n",
      "[CV 1/5] END ...................C=0.1, penalty=l1;, score=nan total time=   0.1s\n",
      "[CV 2/5] END ...................C=0.1, penalty=l1;, score=nan total time=   0.0s\n",
      "[CV 3/5] END ...................C=0.1, penalty=l1;, score=nan total time=   0.0s\n",
      "[CV 4/5] END ...................C=0.1, penalty=l1;, score=nan total time=   0.0s\n",
      "[CV 5/5] END ...................C=0.1, penalty=l1;, score=nan total time=   0.0s\n",
      "[CV 1/5] END .................C=0.1, penalty=l2;, score=0.637 total time=   1.5s\n",
      "[CV 2/5] END .................C=0.1, penalty=l2;, score=0.633 total time=   1.5s\n",
      "[CV 3/5] END .................C=0.1, penalty=l2;, score=0.631 total time=   1.5s\n",
      "[CV 4/5] END .................C=0.1, penalty=l2;, score=0.625 total time=   1.5s\n",
      "[CV 5/5] END .................C=0.1, penalty=l2;, score=0.636 total time=   1.6s\n",
      "[CV 1/5] END .....................C=1, penalty=l1;, score=nan total time=   0.0s\n",
      "[CV 2/5] END .....................C=1, penalty=l1;, score=nan total time=   0.0s\n",
      "[CV 3/5] END .....................C=1, penalty=l1;, score=nan total time=   0.0s\n",
      "[CV 4/5] END .....................C=1, penalty=l1;, score=nan total time=   0.0s\n",
      "[CV 5/5] END .....................C=1, penalty=l1;, score=nan total time=   0.0s\n",
      "[CV 1/5] END ...................C=1, penalty=l2;, score=0.637 total time=   1.6s\n",
      "[CV 2/5] END ...................C=1, penalty=l2;, score=0.638 total time=   1.5s\n",
      "[CV 3/5] END ...................C=1, penalty=l2;, score=0.629 total time=   1.5s\n",
      "[CV 4/5] END ...................C=1, penalty=l2;, score=0.625 total time=   1.4s\n",
      "[CV 5/5] END ...................C=1, penalty=l2;, score=0.635 total time=   1.4s\n",
      "[CV 1/5] END ....................C=10, penalty=l1;, score=nan total time=   0.0s\n",
      "[CV 2/5] END ....................C=10, penalty=l1;, score=nan total time=   0.0s\n",
      "[CV 3/5] END ....................C=10, penalty=l1;, score=nan total time=   0.0s\n",
      "[CV 4/5] END ....................C=10, penalty=l1;, score=nan total time=   0.0s\n",
      "[CV 5/5] END ....................C=10, penalty=l1;, score=nan total time=   0.0s\n",
      "[CV 1/5] END ..................C=10, penalty=l2;, score=0.638 total time=   1.6s\n",
      "[CV 2/5] END ..................C=10, penalty=l2;, score=0.632 total time=   1.5s\n",
      "[CV 3/5] END ..................C=10, penalty=l2;, score=0.629 total time=   1.4s\n",
      "[CV 4/5] END ..................C=10, penalty=l2;, score=0.625 total time=   1.4s\n",
      "[CV 5/5] END ..................C=10, penalty=l2;, score=0.637 total time=   1.5s\n",
      "[CV 1/5] END ....................C=50, penalty=l1;, score=nan total time=   0.0s\n",
      "[CV 2/5] END ....................C=50, penalty=l1;, score=nan total time=   0.0s\n",
      "[CV 3/5] END ....................C=50, penalty=l1;, score=nan total time=   0.0s\n",
      "[CV 4/5] END ....................C=50, penalty=l1;, score=nan total time=   0.0s\n",
      "[CV 5/5] END ....................C=50, penalty=l1;, score=nan total time=   0.0s\n",
      "[CV 1/5] END ..................C=50, penalty=l2;, score=0.638 total time=   1.5s\n",
      "[CV 2/5] END ..................C=50, penalty=l2;, score=0.635 total time=   1.5s\n",
      "[CV 3/5] END ..................C=50, penalty=l2;, score=0.627 total time=   1.4s\n",
      "[CV 4/5] END ..................C=50, penalty=l2;, score=0.627 total time=   1.5s\n",
      "[CV 5/5] END ..................C=50, penalty=l2;, score=0.635 total time=   1.4s\n",
      "[CV 1/5] END ...................C=100, penalty=l1;, score=nan total time=   0.0s\n",
      "[CV 2/5] END ...................C=100, penalty=l1;, score=nan total time=   0.0s\n",
      "[CV 3/5] END ...................C=100, penalty=l1;, score=nan total time=   0.0s\n",
      "[CV 4/5] END ...................C=100, penalty=l1;, score=nan total time=   0.0s\n",
      "[CV 5/5] END ...................C=100, penalty=l1;, score=nan total time=   0.0s\n",
      "[CV 1/5] END .................C=100, penalty=l2;, score=0.637 total time=   1.6s\n",
      "[CV 2/5] END .................C=100, penalty=l2;, score=0.631 total time=   1.5s\n",
      "[CV 3/5] END .................C=100, penalty=l2;, score=0.629 total time=   1.4s\n",
      "[CV 4/5] END .................C=100, penalty=l2;, score=0.624 total time=   1.4s\n",
      "[CV 5/5] END .................C=100, penalty=l2;, score=0.638 total time=   1.5s\n",
      "[CV 1/5] END ..................C=1000, penalty=l1;, score=nan total time=   0.0s\n",
      "[CV 2/5] END ..................C=1000, penalty=l1;, score=nan total time=   0.0s\n",
      "[CV 3/5] END ..................C=1000, penalty=l1;, score=nan total time=   0.0s\n",
      "[CV 4/5] END ..................C=1000, penalty=l1;, score=nan total time=   0.0s\n",
      "[CV 5/5] END ..................C=1000, penalty=l1;, score=nan total time=   0.0s\n",
      "[CV 1/5] END ................C=1000, penalty=l2;, score=0.636 total time=   1.5s\n",
      "[CV 2/5] END ................C=1000, penalty=l2;, score=0.635 total time=   1.5s\n",
      "[CV 3/5] END ................C=1000, penalty=l2;, score=0.629 total time=   1.5s\n",
      "[CV 4/5] END ................C=1000, penalty=l2;, score=0.624 total time=   1.5s\n",
      "[CV 5/5] END ................C=1000, penalty=l2;, score=0.635 total time=   1.4s\n",
      "Mean Accuracy: 0.633\n",
      "Config: {'C': 1, 'penalty': 'l2'}\n"
     ]
    }
   ],
   "source": [
    "param_grid = {\n",
    "    'C': [0.1, 1, 10, 50, 100, 1000],\n",
    "    'penalty': ['l1', 'l2'] #,\n",
    "    # 'max_iter': list(range(100,800,100)),\n",
    "    #'solver': ['newton-cg', 'lbfgs', 'liblinear', 'sag', 'saga']\n",
    "}\n",
    "lr_search = GridSearchCV(lr, param_grid=param_grid, refit = True, verbose = 3, cv=5)\n",
    "\n",
    "# fitting the model for grid search \n",
    "lr_search.fit(X_train , y_train)\n",
    "lr_search.best_params_\n",
    "# summarize\n",
    "print('Mean Accuracy: %.3f' % lr_search.best_score_)\n",
    "print('Config: %s' % lr_search.best_params_)"
   ]
  },
  {
   "cell_type": "code",
   "execution_count": 237,
   "metadata": {},
   "outputs": [
    {
     "data": {
      "text/plain": [
       "LogisticRegression(C=1)"
      ]
     },
     "execution_count": 237,
     "metadata": {},
     "output_type": "execute_result"
    }
   ],
   "source": [
    "lr = LogisticRegression(C = 1, penalty = 'l2')\n",
    "lr.fit(X_train, y_train)"
   ]
  },
  {
   "cell_type": "code",
   "execution_count": 238,
   "metadata": {},
   "outputs": [
    {
     "name": "stdout",
     "output_type": "stream",
     "text": [
      "Logistic Accuracy after Regularization : 0.63975\n",
      "Logistic Precision after Regularization: 0.6488718775181306\n",
      "Logistic Recall after Regularization   : 0.6339927172522389\n"
     ]
    }
   ],
   "source": [
    "predicted = lr.predict(X_val)\n",
    "\n",
    "print(f'Logistic Accuracy after Regularization : {metrics.accuracy_score(y_val, predicted)}')\n",
    "print(f'Logistic Precision after Regularization: {metrics.precision_score(y_val, predicted)}')\n",
    "print(f'Logistic Recall after Regularization   : {metrics.recall_score(y_val, predicted)}')"
   ]
  },
  {
   "cell_type": "code",
   "execution_count": null,
   "metadata": {},
   "outputs": [],
   "source": []
  },
  {
   "cell_type": "markdown",
   "metadata": {},
   "source": [
    "## Confrontare diversi modelli"
   ]
  },
  {
   "cell_type": "code",
   "execution_count": 11,
   "metadata": {},
   "outputs": [
    {
     "name": "stderr",
     "output_type": "stream",
     "text": [
      " 33%|███▎      | 1/3 [03:15<06:31, 195.59s/it]"
     ]
    },
    {
     "name": "stdout",
     "output_type": "stream",
     "text": [
      "RandomForestClassifier: Mean Accuracy = 61.73%; Mean F1-macro = 61.65%; Mean recall-macro = 61.67%; Mean precision-macro = 61.74%\n"
     ]
    },
    {
     "name": "stderr",
     "output_type": "stream",
     "text": [
      " 67%|██████▋   | 2/3 [03:42<01:36, 96.22s/it] "
     ]
    },
    {
     "name": "stdout",
     "output_type": "stream",
     "text": [
      "LinearSVC: Mean Accuracy = 64.03%; Mean F1-macro = 64.02%; Mean recall-macro = 64.03%; Mean precision-macro = 64.03%\n"
     ]
    },
    {
     "name": "stderr",
     "output_type": "stream",
     "text": [
      "100%|██████████| 3/3 [04:06<00:00, 82.03s/it]"
     ]
    },
    {
     "name": "stdout",
     "output_type": "stream",
     "text": [
      "LogisticRegression: Mean Accuracy = 63.95%; Mean F1-macro = 63.95%; Mean recall-macro = 63.95%; Mean precision-macro = 63.95%\n"
     ]
    },
    {
     "name": "stderr",
     "output_type": "stream",
     "text": [
      "\n"
     ]
    }
   ],
   "source": [
    "from sklearn.ensemble import RandomForestClassifier\n",
    "from sklearn.svm import LinearSVC\n",
    "from sklearn.linear_model import LogisticRegression\n",
    "\n",
    "from sklearn.model_selection import StratifiedKFold\n",
    "from sklearn.model_selection import cross_validate\n",
    "\n",
    "#  defining models and associated parameters\n",
    "models = [RandomForestClassifier(n_estimators = 100, max_depth=5, random_state=42), \n",
    "          LinearSVC(random_state=42),\n",
    "          LogisticRegression(random_state=42)]\n",
    "\n",
    "kf = StratifiedKFold(n_splits=5, shuffle=True, random_state=1) # With StratifiedKFold, the folds are made by preserving the percentage of samples for each class.\n",
    "\n",
    "scoring = ['accuracy', 'f1_macro', 'recall_macro', 'precision_macro']\n",
    "\n",
    "#  iterative loop print metrics from each model\n",
    "for model in tqdm(models):\n",
    "    model_name = model.__class__.__name__\n",
    "    result = cross_validate(model, X_train, y_train, cv=kf, scoring=scoring)\n",
    "    print(\"%s: Mean Accuracy = %.2f%%; Mean F1-macro = %.2f%%; Mean recall-macro = %.2f%%; Mean precision-macro = %.2f%%\" \n",
    "          % (model_name, \n",
    "             result['test_accuracy'].mean()*100, \n",
    "             result['test_f1_macro'].mean()*100, \n",
    "             result['test_recall_macro'].mean()*100, \n",
    "             result['test_precision_macro'].mean()*100))"
   ]
  },
  {
   "cell_type": "code",
   "execution_count": null,
   "metadata": {},
   "outputs": [],
   "source": []
  },
  {
   "cell_type": "markdown",
   "metadata": {},
   "source": [
    "## Age_class"
   ]
  },
  {
   "cell_type": "code",
   "execution_count": 108,
   "metadata": {},
   "outputs": [],
   "source": [
    "X = data['embedding'].to_list() # ,'has_young_word', 'word_count', 'has_emoticon', 'has_punctuation', 'has_URL'\n",
    "# X = pd.DataFrame(embedding['embedding'].to_list(), columns=[f'embedding_{i+1}' for i in range(384)])\n",
    "# X = pd.concat([X, features], axis = 1)\n",
    "y = data['age_class'].to_list()"
   ]
  },
  {
   "cell_type": "code",
   "execution_count": 109,
   "metadata": {},
   "outputs": [
    {
     "name": "stdout",
     "output_type": "stream",
     "text": [
      "The train set has 160000 rows, while the validation set contains 40000 rows: 80% vs 20%.\n"
     ]
    }
   ],
   "source": [
    "X_train, X_val, y_train, y_val = train_test_split(X, y, test_size = 0.2, stratify = y) # stratification on the y to avoid class imbalancement\n",
    "\n",
    "print(f'The train set has {len(X_train)} rows, while the validation set contains {len(X_val)} rows: 80% vs 20%.')"
   ]
  },
  {
   "cell_type": "code",
   "execution_count": 110,
   "metadata": {},
   "outputs": [
    {
     "data": {
      "text/plain": [
       "LogisticRegression(multi_class='multinomial')"
      ]
     },
     "execution_count": 110,
     "metadata": {},
     "output_type": "execute_result"
    }
   ],
   "source": [
    "model = LogisticRegression(multi_class='multinomial', solver='lbfgs')\n",
    "model.fit(X_train, y_train)"
   ]
  },
  {
   "cell_type": "code",
   "execution_count": 111,
   "metadata": {},
   "outputs": [
    {
     "name": "stdout",
     "output_type": "stream",
     "text": [
      "Multinomial Logistic Regression Accuracy : 0.598975\n"
     ]
    }
   ],
   "source": [
    "from sklearn import metrics\n",
    "\n",
    "predicted = model.predict(X_val)\n",
    "\n",
    "print(f'Multinomial Logistic Regression Accuracy : {metrics.accuracy_score(y_val, predicted)}')"
   ]
  },
  {
   "cell_type": "code",
   "execution_count": 112,
   "metadata": {},
   "outputs": [
    {
     "data": {
      "text/plain": [
       "array([[ 7945,  5350,   212],\n",
       "       [ 3203, 14993,   812],\n",
       "       [  754,  5710,  1021]])"
      ]
     },
     "execution_count": 112,
     "metadata": {},
     "output_type": "execute_result"
    }
   ],
   "source": [
    "from sklearn.metrics import confusion_matrix\n",
    "\n",
    "confusion_matrix(y_val, predicted)"
   ]
  },
  {
   "cell_type": "markdown",
   "metadata": {},
   "source": [
    "#### What if we add the features?"
   ]
  },
  {
   "cell_type": "code",
   "execution_count": 94,
   "metadata": {},
   "outputs": [
    {
     "data": {
      "text/plain": [
       "Index(['has_young_word', 'word_count', 'has_emoticon', 'has_punctuation',\n",
       "       'has_URL'],\n",
       "      dtype='object')"
      ]
     },
     "execution_count": 94,
     "metadata": {},
     "output_type": "execute_result"
    }
   ],
   "source": [
    "features.columns"
   ]
  },
  {
   "cell_type": "code",
   "execution_count": 101,
   "metadata": {},
   "outputs": [],
   "source": [
    "X = pd.DataFrame(data['embedding'].to_list(), columns=[f'embedding_{i+1}' for i in range(384)])\n",
    "X = pd.concat([X, features[['has_young_word', 'has_emoticon']]], axis = 1) # prendiamo solo le emoticon e le parole giovanili come features\n",
    "y = data['age_class'].to_list()"
   ]
  },
  {
   "cell_type": "code",
   "execution_count": 102,
   "metadata": {},
   "outputs": [
    {
     "name": "stdout",
     "output_type": "stream",
     "text": [
      "The train set has 160000 rows, while the validation set contains 40000 rows: 80% vs 20%.\n"
     ]
    }
   ],
   "source": [
    "X_train, X_val, y_train, y_val = train_test_split(X, y, test_size = 0.2, stratify = y) # stratification on the y to avoid class imbalancement\n",
    "\n",
    "print(f'The train set has {len(X_train)} rows, while the validation set contains {len(X_val)} rows: 80% vs 20%.')"
   ]
  },
  {
   "cell_type": "code",
   "execution_count": 105,
   "metadata": {},
   "outputs": [
    {
     "data": {
      "text/plain": [
       "LogisticRegression(multi_class='multinomial')"
      ]
     },
     "execution_count": 105,
     "metadata": {},
     "output_type": "execute_result"
    }
   ],
   "source": [
    "model = LogisticRegression(multi_class='multinomial')\n",
    "model.fit(X_train, y_train)"
   ]
  },
  {
   "cell_type": "code",
   "execution_count": 106,
   "metadata": {},
   "outputs": [
    {
     "name": "stdout",
     "output_type": "stream",
     "text": [
      "Multinomial Logistic Regression Accuracy : 0.5999\n"
     ]
    }
   ],
   "source": [
    "predicted = model.predict(X_val)\n",
    "\n",
    "print(f'Multinomial Logistic Regression Accuracy : {metrics.accuracy_score(y_val, predicted)}')"
   ]
  },
  {
   "cell_type": "code",
   "execution_count": 107,
   "metadata": {},
   "outputs": [
    {
     "data": {
      "text/plain": [
       "array([[ 7862,  5433,   212],\n",
       "       [ 3152, 15062,   794],\n",
       "       [  778,  5635,  1072]])"
      ]
     },
     "execution_count": 107,
     "metadata": {},
     "output_type": "execute_result"
    }
   ],
   "source": [
    "confusion_matrix(y_val, predicted)"
   ]
  }
 ],
 "metadata": {
  "kernelspec": {
   "display_name": "base",
   "language": "python",
   "name": "python3"
  },
  "language_info": {
   "codemirror_mode": {
    "name": "ipython",
    "version": 3
   },
   "file_extension": ".py",
   "mimetype": "text/x-python",
   "name": "python",
   "nbconvert_exporter": "python",
   "pygments_lexer": "ipython3",
   "version": "3.9.12"
  },
  "orig_nbformat": 4
 },
 "nbformat": 4,
 "nbformat_minor": 2
}
