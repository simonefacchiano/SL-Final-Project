{
 "cells": [
  {
   "cell_type": "code",
   "execution_count": 5,
   "metadata": {},
   "outputs": [],
   "source": [
    "import gradio as gr"
   ]
  },
  {
   "cell_type": "code",
   "execution_count": 6,
   "metadata": {},
   "outputs": [],
   "source": [
    "import pandas as pd\n",
    "import json\n",
    "import numpy as np\n",
    "import matplotlib.pyplot as plt\n",
    "import spacy\n",
    "import string\n",
    "import nltk\n",
    "from nltk.corpus import stopwords\n",
    "import warnings\n",
    "warnings.filterwarnings(\"ignore\")\n",
    "from spacy import tokenizer\n",
    "from spacy.lang.en import English\n",
    "nlp = English()\n",
    "tkz = tokenizer.Tokenizer(nlp.vocab)\n",
    "from tqdm import tqdm\n",
    "from nltk.tokenize import sent_tokenize\n",
    "import seaborn as sns\n",
    "import plotly.graph_objects as go\n",
    "import plotly.express as px\n",
    "import re\n",
    "from bs4 import BeautifulSoup\n",
    "import plotly.io as pio\n",
    "from plotly.subplots import make_subplots\n",
    "import plotly.figure_factory as ff\n",
    "import unicodedata\n",
    "import pickle"
   ]
  },
  {
   "cell_type": "code",
   "execution_count": 10,
   "metadata": {},
   "outputs": [],
   "source": [
    "# https://towardsdatascience.com/text-normalization-for-natural-language-processing-nlp-70a314bfa646\n",
    "# Not as efficient as other specialized packets... bu at least it works well\n",
    "contractions_dict = {\"ain't\": \"are not\", \"'s\":\" \", \" s \":\" is\", \"aren't\": \"are not\", \"Aren't\": \"are not\", \"Can't\": \"can not\", \"can't\": \"can not\", \"can't\": \"cannot\", \"can't've\": \"cannot have\", \"'cause\": \"because\", \"could've\": \"could have\", \"couldn't\": \"could not\", \"couldn't've\": \"could not have\", \"didn't\": \"did not\", \"doesn't\": \"does not\", \"don't\": \"do not\", \"don t\": \"do not\", \"dont\": \"do not\", \"dunno\": \"do not know\", \"hadn't\": \"had not\", \"hadn't've\": \"had not have\", \"hasn't\": \"has not\", \"haven't\": \"have not\", \"he'd\": \"he would\", \"he'd've\": \"he would have\", \"he'll\": \"he will\", \" hes \": \" he is \", \"he'll've\": \"he will have\", \"how'd\": \"how did\", \"how'd'y\": \"how do you\", \"how'll\": \"how will\", \"I'd\": \"I would\", \"I'd've\": \"I would have\", \"I'll\": \"I will\", \"i'll\": \"i will\", \"'ll\":\" will\", \"I'll've\": \"I will have\", \"I’m\": \"I am\", \"i'm\": \"i am\", \"'m\": \" am\", \" im \": \" i am \", \"I've\": \"I have\", \"i've\": \"i have\", \"I've\": \"I have\", \"havent\": \"have not\", \"isn't\": \"is not\", \"it'd\": \"it would\", \"it'd've\": \"it would have\", \"it'll\": \"it will\", \"it'll’ve\": \"it will have\", \"let's\": \"let us\", \"lets\": \"let us\", \"ma'am\": \"madam\", \"mayn't\": \"may not\", \"might've\": \"might have\", \"mightn't\": \"might not\", \"mightn't've\": \"might not have\", \"must've\": \"must have\", \"mustn't\": \"must not\", \"mustn't've\": \"must not have\", \"needn't\": \"need not\", \"needn't’ve\": \"need not have\", \"o'clock\": \"of the clock\", \"oughtn't\": \"ought not\", \"oughtn't've\": \"ought not have\", \"shan't\": \"shall not\", \"sha'n't\": \"shall not\", \"shan't've\": \"shall not have\", \"she'd\": \"she would\", \"she'd've\": \"she would have\", \"She'll\": \"she will\", \"she'll\": \"she will\", \"she'll've\": \"she will have\", \"should've\": \"should have\", \"shouldn't\": \"should not\", \"shouldn't've\": \"should not have\", \"so've\": \"so have\", \"that'd\": \"that would\", \"that'd've\": \"that would have\", \"there'd\": \"there would\", \"there'd've\": \"there would have\", \"they'd\": \"they would\", \"they'd've\": \"they would have\",\"they'll\": \"they will\", \"wont\": \"will not\",\n",
    "  \"they'll've\": \"they will have\", \"they're\": \"they are\", \"they've\": \"they have\", \"to've\": \"to have\", \"wasn't\": \"was not\", \"we'd\": \"we would\", \"we'd've\": \"we would have\", \"we'll\": \"we will\", \"we'll've\": \"we will have\", \"we're\": \"we are\", \"we've\": \"we have\", \"weren't\": \"were not\",\"what'll\": \"what will\", \"what'll've\": \"what will have\", \"what're\": \"what are\", \"what've\": \"what have\", \"when've\": \"when have\", \"where’d\": \"where did\", \"where've\": \"where have\",\n",
    "  \"who'll\": \"who will\", \"who'll've\": \"who will have\", \"who've\": \"who have\", \"why've\": \"why have\", \"will've\": \"will have\", \"won't\": \"will not\", \"won't've\": \"will not have\", \"would've\": \"would have\", \"wouldn't\": \"would not\", \"wouldn't've\": \"would not have\", \"y’all\": \"you all\", \"y'all'd\": \"you all would\", \"y'all'd've\": \"you all would have\", \"y'all're\": \"you all are\", \"y'all've\": \"you all have\", \"you'd\": \"you would\", \"you'd've\": \"you would have\", \"you'll\": \"you will\", \"You'll\": \"you will\", \"you'll've\": \"you will have\", \"You're\": \"you are\", \"you're\": \"you are\", \"you've\": \"you have\", \"wanna\": \"want to\", \" u \": \" you \", \" r \": \" are \", \"gawd\": \"god\", \"urlLink\": \"\", \"luv\": \"love\", \"Luv\": \"Love\", \"wuts\": \"what is\", \"wasnt\": \"was not\", \"Wasnt\": \"was not\", \" bday \": \"birthday\", \" gotta \": \"got to\", \"gonna\": \"going to\",\n",
    "  \"nvr\": \"never\", \" cuz \": \" because \", \" cos \": \" because \",\" cant \": \" can not \", \"yr\": \" years old\", \"i\\'d\": \"i\\ would\", \"they\\'d\": \"they\\ would\", \"we\\'re\": \"we\\ are\", \"shouldn\\'t\": \"should\\ not\", \"Don\\'t\": \"Do\\ not\", \"won\\'t\": \"will\\ not\", \"haven\\'t\": \"have\\ not\", \"you\\'re\": \"you\\ are\", \"they\\'re\": \"they\\ are\", \"Didn\\'t\": \"Did\\ not\", \"Hasn\\'t\": \"Has\\ not\", \"I\\'d\": \"I\\ would\", \"you\\'ve\": \"you\\ have\", \"peeps\": \"people\", \"it's\": \"it is\", \"kinda\": \"kind of\", \"buyin\": \"buying\", \"Its\": \"It is\", \"bout\": \"about\", \" ppl \": \" people \", \" n \": \" and \", \"enuf\": \"enough\", \"btw\": \"by the way\", \"BTW\": \"BY THE WAY\", 'b/c': \"because\", \" aabout\": \"about\", \" aaabout\": \"about\", \"aaaabout\": \"about\"}"
   ]
  },
  {
   "cell_type": "code",
   "execution_count": 50,
   "metadata": {},
   "outputs": [],
   "source": [
    "contractions_re = re.compile('(%s)'%'|'.join(contractions_dict.keys()))\n",
    "def expand_contractions(s, contractions_dict=contractions_dict):\n",
    "  def replace(match):\n",
    "    return contractions_dict[match.group(0)]\n",
    "  return contractions_re.sub(replace, s)\n",
    "def lowering(text):\n",
    "    return text.lower()\n",
    "def remove_url(text):\n",
    "    return re.sub(r'https?://\\S+|www\\.\\S+', '', text)\n",
    "def remove_html_tags_func(text):\n",
    "    return BeautifulSoup(text, 'html.parser').get_text()\n",
    "def remove_accents(text):\n",
    "    return unicodedata.normalize('NFKD', text).encode('ascii', 'ignore').decode('utf-8', 'ignore')\n",
    "def remove_punctuation(text):\n",
    "    # return re.sub(r'[^a-zA-Z0-9]', ' ', text) # --> if you allow for numbers\n",
    "    return re.sub(r'[^a-zA-Z]', ' ', text) # --> if you do not allow for numbers\n",
    "def remove_extra_spaces(text):\n",
    "    return re.sub(r'^\\s*|\\s\\s*', ' ', text).strip()\n",
    "\n",
    "import spacy\n",
    "en = spacy.load('en_core_web_sm')\n",
    "sw_spacy = en.Defaults.stop_words\n",
    "\n",
    "def delete_stopwords(text):\n",
    "    words = [word for word in text.split() if word.lower() not in sw_spacy]\n",
    "    new_text = \" \".join(words)\n",
    "    return new_text\n",
    "def lemmatizer(sentence):\n",
    "    doc = nlp(sentence)\n",
    "\n",
    "    # Lemmatize:\n",
    "    mytokens = [word.lemma_.strip() for word in doc]\n",
    "\n",
    "    # Re-join\n",
    "    sentence = \" \".join(mytokens)\n",
    "\n",
    "    # Return the sentence\n",
    "    return(sentence)"
   ]
  },
  {
   "cell_type": "code",
   "execution_count": 75,
   "metadata": {},
   "outputs": [],
   "source": [
    "#Funzione che faccia il preprocessing\n",
    "def preprocessing(post):\n",
    "    post = expand_contractions(post)\n",
    "    post = lowering(post)\n",
    "    post = remove_url(post)\n",
    "    post = remove_html_tags_func(post)\n",
    "    post  = remove_accents(post)\n",
    "    post = remove_punctuation(post)\n",
    "    post = remove_extra_spaces(post)\n",
    "    post = delete_stopwords(post)\n",
    "    post = model.encode(post)\n",
    "    #post = lemmatizer(post)\n",
    "    return post"
   ]
  },
  {
   "cell_type": "code",
   "execution_count": 52,
   "metadata": {},
   "outputs": [],
   "source": [
    "from sentence_transformers import SentenceTransformer\n",
    "model = SentenceTransformer('all-MiniLM-L6-v2') "
   ]
  },
  {
   "cell_type": "code",
   "execution_count": 76,
   "metadata": {},
   "outputs": [
    {
     "data": {
      "text/plain": [
       "array([-1.05435029e-01, -2.22503748e-02,  2.27699112e-02,  5.09012267e-02,\n",
       "       -1.88462678e-02, -7.90636167e-02,  3.55912708e-02,  3.37074287e-02,\n",
       "        1.90408658e-02,  7.16680335e-03, -5.40326349e-03, -4.87990417e-02,\n",
       "       -4.49391641e-02, -2.36380640e-02,  3.21930088e-02,  9.02613103e-02,\n",
       "        1.11137420e-01, -5.75760426e-03, -1.16802290e-01,  4.15906534e-02,\n",
       "        3.46617177e-02,  9.92389116e-03, -9.17087644e-02,  7.94417411e-03,\n",
       "       -7.40805268e-02, -2.87805796e-02,  4.86160330e-02,  4.37728763e-02,\n",
       "        3.21470872e-02,  4.92233783e-03, -4.35721464e-02, -3.20933782e-03,\n",
       "        4.92340326e-02,  2.96427067e-02,  5.86210284e-03,  3.44268866e-02,\n",
       "       -1.69891305e-02, -1.04742073e-01,  6.85539097e-02,  2.05690470e-02,\n",
       "        4.80734222e-02, -2.10309215e-02, -3.52458693e-02,  3.16280164e-02,\n",
       "        4.90955785e-02, -3.02880257e-02,  5.27979247e-02,  1.33442041e-02,\n",
       "        6.06348626e-02, -1.81277599e-02, -1.25266239e-01, -3.14575657e-02,\n",
       "       -2.93194558e-02,  1.75767075e-02,  1.05988570e-01,  6.99934512e-02,\n",
       "        7.12295771e-02, -2.05989443e-02,  5.53358570e-02, -5.45041915e-03,\n",
       "       -4.55285273e-02,  9.37833637e-02, -1.29270945e-02, -2.62706894e-02,\n",
       "        1.00195721e-01, -7.36995041e-02, -6.83217272e-02, -5.63707426e-02,\n",
       "        8.57338496e-03, -2.60700677e-02, -2.48659551e-02,  5.25812469e-02,\n",
       "       -6.91641420e-02, -3.23500298e-02, -2.83766147e-02,  5.83749153e-02,\n",
       "        2.32875701e-02,  1.34640997e-02,  9.19979364e-02, -3.76125239e-02,\n",
       "        1.11528952e-02, -9.02257189e-02, -2.73785926e-03, -5.30435108e-02,\n",
       "       -7.38038495e-02,  2.05191690e-02,  4.38964367e-02,  5.97653538e-02,\n",
       "       -1.68351121e-02, -1.17952488e-02, -1.81942843e-02,  9.50385816e-04,\n",
       "        3.61077152e-02, -2.17685513e-02, -1.14426486e-01, -4.80433693e-03,\n",
       "        2.97662336e-02,  4.66688946e-02, -9.56295505e-02,  1.71104267e-01,\n",
       "        1.63629558e-02,  4.79979068e-02, -1.15104169e-02,  3.69008966e-02,\n",
       "       -5.30325621e-03, -2.87669189e-02,  8.12335289e-04,  9.64432880e-02,\n",
       "       -5.65043576e-02,  3.75227667e-02,  5.30292988e-02, -3.07172798e-02,\n",
       "       -2.11243518e-02, -3.64297405e-02,  2.30823886e-02, -1.93441454e-02,\n",
       "       -3.49440202e-02,  4.96206619e-03,  4.46660295e-02, -3.38737629e-02,\n",
       "        1.41420430e-02, -4.81299385e-02, -1.28631992e-02, -6.93988502e-02,\n",
       "        2.09295880e-02, -7.86128454e-03, -3.27319503e-02,  2.41982253e-33,\n",
       "       -2.71372013e-02, -2.21725050e-02, -7.40258582e-03,  9.21082422e-02,\n",
       "       -5.06509617e-02,  1.59498565e-02,  9.99487843e-03, -4.13020141e-02,\n",
       "       -1.29094515e-02, -3.51700336e-02,  1.81043725e-02, -2.92894486e-02,\n",
       "       -5.66674322e-02, -2.82822817e-04, -7.23184198e-02,  1.01580266e-02,\n",
       "       -2.02295613e-02,  5.31159639e-02, -6.57916814e-03,  4.10469137e-02,\n",
       "       -7.34131336e-02, -7.13687241e-02,  4.10411805e-02,  2.50128135e-02,\n",
       "        2.95179635e-02,  7.63485953e-03, -8.15965515e-03, -1.01219401e-01,\n",
       "        5.54170310e-02,  3.35478373e-02, -2.01618727e-02, -1.31225667e-03,\n",
       "       -4.80484478e-02,  2.88841501e-02, -1.72431041e-02,  2.24577785e-02,\n",
       "        4.23472747e-02, -7.66261965e-02, -2.22054236e-02, -2.92182285e-02,\n",
       "       -5.00776172e-02,  7.24810809e-02, -1.41178565e-02,  1.55717321e-02,\n",
       "        6.57213703e-02,  1.05163120e-02, -3.98734864e-03,  2.75551081e-02,\n",
       "        8.42113327e-03, -2.50804741e-02, -5.25769927e-02,  6.21542968e-02,\n",
       "       -4.58902828e-02, -6.84074499e-03, -2.27052625e-02, -2.03988831e-02,\n",
       "        4.20451984e-02, -1.90793835e-02,  3.26355770e-02,  5.44301420e-02,\n",
       "        2.49696393e-02,  6.69945180e-02,  2.60054204e-03, -7.90325925e-02,\n",
       "       -1.04658723e-01, -2.40492877e-02,  5.49785420e-02, -3.30768265e-02,\n",
       "        2.19315328e-02,  1.16300024e-02, -2.42482014e-02,  1.62187312e-02,\n",
       "       -3.52573916e-02, -1.91840827e-02,  2.51439419e-02,  4.41992730e-02,\n",
       "        2.96469908e-02, -1.88834302e-03,  4.68587242e-02, -1.98221002e-02,\n",
       "        4.75613326e-02, -9.87131242e-03, -8.93573961e-05, -1.50756165e-02,\n",
       "       -4.44374140e-03,  4.71943766e-02,  4.99581061e-02, -9.18996781e-02,\n",
       "        1.53906283e-03, -4.88400348e-02, -9.21265632e-02,  5.63281849e-02,\n",
       "        4.49853726e-02, -2.58577652e-02, -4.40118276e-02, -1.66484200e-33,\n",
       "        1.17767587e-01, -2.50648009e-04, -1.04755871e-01, -8.46346766e-02,\n",
       "        7.20767826e-02, -4.44234461e-02, -2.64466740e-02,  1.25063285e-01,\n",
       "       -7.89260790e-02,  5.68847954e-02, -1.27444472e-02,  8.97454470e-03,\n",
       "        1.32631421e-01, -5.32087609e-02,  1.04435287e-01,  2.41824612e-03,\n",
       "        1.94161713e-01,  2.40866542e-02, -1.38957407e-02,  9.66302585e-03,\n",
       "       -5.93421012e-02, -2.56985091e-02, -4.09709290e-02, -1.67527497e-02,\n",
       "       -7.76923075e-03, -2.78810766e-02,  3.62909795e-03,  4.18859161e-03,\n",
       "       -1.55545101e-01, -3.38093117e-02,  1.55972131e-02,  4.81913052e-03,\n",
       "       -3.32117081e-02, -4.70856484e-03,  1.54855419e-02,  4.17566225e-02,\n",
       "        2.69272272e-02, -1.09250903e-01, -9.03672259e-03, -4.93732765e-02,\n",
       "       -1.68320704e-02, -2.50136312e-02, -1.95755307e-02, -1.69859994e-02,\n",
       "       -3.52750644e-02, -4.61845100e-02, -3.47709912e-03,  1.12559488e-02,\n",
       "       -5.77515550e-02,  5.80988266e-02, -4.83924933e-02, -5.65757696e-03,\n",
       "       -3.40169296e-03,  2.97064502e-02, -5.80204166e-02,  4.55513373e-02,\n",
       "        1.34622566e-02,  4.55975439e-03, -2.30207760e-02,  2.13806313e-02,\n",
       "        2.74970569e-02,  1.00364603e-01,  7.49722868e-02,  8.70183781e-02,\n",
       "        2.97213607e-02,  5.71599081e-02,  2.54532751e-02, -4.21432927e-02,\n",
       "       -1.41786765e-02,  6.31477404e-03,  1.03554910e-03,  5.44203855e-02,\n",
       "       -6.50081560e-02, -2.34791078e-02, -2.17081630e-03, -9.35070449e-04,\n",
       "        1.45374509e-02,  3.86447906e-02,  8.59065875e-02, -4.30223569e-02,\n",
       "        4.76301014e-02,  4.47885133e-02,  2.03956924e-02,  1.06142592e-02,\n",
       "        6.51048198e-02,  3.39228436e-02,  1.42183289e-01,  5.57414219e-02,\n",
       "        6.40198439e-02, -1.02593221e-01,  3.98875587e-02,  1.00944629e-02,\n",
       "       -9.64016281e-03,  7.07174093e-02, -1.95288341e-02, -2.02769446e-08,\n",
       "        3.08127478e-02,  4.48598117e-02,  7.49326199e-02,  4.94999141e-02,\n",
       "       -2.25503445e-02,  7.19717070e-02, -1.78138986e-02, -4.90512736e-02,\n",
       "       -5.87275364e-02,  4.32470776e-02,  4.42636944e-02,  6.24039434e-02,\n",
       "       -1.65372584e-02,  3.43608926e-03,  8.39313045e-02,  4.47759442e-02,\n",
       "       -5.39068580e-02, -3.71617265e-02, -4.65673357e-02, -1.20548159e-01,\n",
       "       -4.24668118e-02,  8.62809923e-03,  5.87282442e-02, -2.52892189e-02,\n",
       "       -7.49294600e-03, -4.17402051e-02,  4.51419242e-02,  3.55477370e-02,\n",
       "       -4.80894782e-02,  2.78710965e-02, -6.31570667e-02,  7.95324221e-02,\n",
       "       -9.57290307e-02, -3.63279227e-03, -1.86772719e-02, -4.17444482e-02,\n",
       "        1.32176587e-02,  6.66746646e-02,  5.53193651e-02, -6.79584444e-02,\n",
       "       -2.01714616e-02, -3.50274667e-02, -4.42789756e-02, -4.72422354e-02,\n",
       "       -3.20514739e-02,  2.21659262e-02,  6.38256520e-02, -1.27583012e-01,\n",
       "        9.90227517e-03, -8.63228664e-02, -3.05284634e-02,  2.32246686e-02,\n",
       "        6.14251904e-02,  1.13528753e-02,  7.82071725e-02,  7.67228529e-02,\n",
       "        1.57625992e-02,  7.45706074e-03,  1.75742041e-02, -1.23288454e-02,\n",
       "        8.16143118e-03, -4.69542621e-03,  7.50163421e-02,  1.99657399e-02],\n",
       "      dtype=float32)"
      ]
     },
     "execution_count": 76,
     "metadata": {},
     "output_type": "execute_result"
    }
   ],
   "source": [
    "preprocessing(\"Hellooo, time can't wait to see you at https://example.com!             a   of \")"
   ]
  },
  {
   "cell_type": "code",
   "execution_count": 70,
   "metadata": {},
   "outputs": [
    {
     "data": {
      "text/plain": [
       "'walking street met beautiful boyfriend'"
      ]
     },
     "execution_count": 70,
     "metadata": {},
     "output_type": "execute_result"
    }
   ],
   "source": [
    "preprocessing(\"I was walking down the street and met my beautiful boyfriend\")"
   ]
  },
  {
   "cell_type": "code",
   "execution_count": 80,
   "metadata": {},
   "outputs": [],
   "source": [
    "train = pd.read_pickle('embedding_100k_prova2.pkl')"
   ]
  },
  {
   "cell_type": "code",
   "execution_count": 81,
   "metadata": {},
   "outputs": [
    {
     "data": {
      "text/html": [
       "<div>\n",
       "<style scoped>\n",
       "    .dataframe tbody tr th:only-of-type {\n",
       "        vertical-align: middle;\n",
       "    }\n",
       "\n",
       "    .dataframe tbody tr th {\n",
       "        vertical-align: top;\n",
       "    }\n",
       "\n",
       "    .dataframe thead th {\n",
       "        text-align: right;\n",
       "    }\n",
       "</style>\n",
       "<table border=\"1\" class=\"dataframe\">\n",
       "  <thead>\n",
       "    <tr style=\"text-align: right;\">\n",
       "      <th></th>\n",
       "      <th>post</th>\n",
       "      <th>age</th>\n",
       "      <th>gender</th>\n",
       "      <th>length</th>\n",
       "      <th>lemmatize</th>\n",
       "      <th>embedding</th>\n",
       "    </tr>\n",
       "  </thead>\n",
       "  <tbody>\n",
       "    <tr>\n",
       "      <th>0</th>\n",
       "      <td>ooh shiny new commenting</td>\n",
       "      <td>16</td>\n",
       "      <td>female</td>\n",
       "      <td>4</td>\n",
       "      <td>ooh shiny new commenting</td>\n",
       "      <td>[-0.18770814, -0.13998552, 0.019073976, 0.0225...</td>\n",
       "    </tr>\n",
       "    <tr>\n",
       "      <th>1</th>\n",
       "      <td>today parade suked bad band year battle today ...</td>\n",
       "      <td>14</td>\n",
       "      <td>male</td>\n",
       "      <td>48</td>\n",
       "      <td>today parade suke bad band year battle today k...</td>\n",
       "      <td>[-0.11394925, 0.02999169, 0.014715457, -0.0732...</td>\n",
       "    </tr>\n",
       "    <tr>\n",
       "      <th>2</th>\n",
       "      <td>know aabout anymore concerned everyday want bo...</td>\n",
       "      <td>24</td>\n",
       "      <td>female</td>\n",
       "      <td>80</td>\n",
       "      <td>know aabout anymore concerned everyday want bo...</td>\n",
       "      <td>[-0.10992989, -0.04249898, 0.019761039, 0.0499...</td>\n",
       "    </tr>\n",
       "    <tr>\n",
       "      <th>3</th>\n",
       "      <td>roof sunset posted paul</td>\n",
       "      <td>24</td>\n",
       "      <td>male</td>\n",
       "      <td>7</td>\n",
       "      <td>roof sunset post paul</td>\n",
       "      <td>[-0.046943568, 0.13227944, 0.02199171, 0.00461...</td>\n",
       "    </tr>\n",
       "    <tr>\n",
       "      <th>4</th>\n",
       "      <td>god love nanny absolutely greatest woman earth...</td>\n",
       "      <td>23</td>\n",
       "      <td>female</td>\n",
       "      <td>730</td>\n",
       "      <td>god love nanny absolutely great woman earth kn...</td>\n",
       "      <td>[-0.03844242, -0.08146381, 0.017230963, 0.0577...</td>\n",
       "    </tr>\n",
       "    <tr>\n",
       "      <th>...</th>\n",
       "      <td>...</td>\n",
       "      <td>...</td>\n",
       "      <td>...</td>\n",
       "      <td>...</td>\n",
       "      <td>...</td>\n",
       "      <td>...</td>\n",
       "    </tr>\n",
       "    <tr>\n",
       "      <th>104581</th>\n",
       "      <td>w y online gaming squared time try going want ...</td>\n",
       "      <td>24</td>\n",
       "      <td>male</td>\n",
       "      <td>61</td>\n",
       "      <td>w y online gaming square time try going want g...</td>\n",
       "      <td>[-0.022314172, -0.12119941, -0.022755269, -0.0...</td>\n",
       "    </tr>\n",
       "    <tr>\n",
       "      <th>104582</th>\n",
       "      <td>jeremy concert high school</td>\n",
       "      <td>41</td>\n",
       "      <td>female</td>\n",
       "      <td>9</td>\n",
       "      <td>jeremy concert high school</td>\n",
       "      <td>[0.0012280531, 0.0471571, 0.042628232, -0.0627...</td>\n",
       "    </tr>\n",
       "    <tr>\n",
       "      <th>104583</th>\n",
       "      <td>hey great weekend went laura fun sunday sat da...</td>\n",
       "      <td>17</td>\n",
       "      <td>male</td>\n",
       "      <td>126</td>\n",
       "      <td>hey great weekend go laura fun sunday sat day ...</td>\n",
       "      <td>[-0.050709814, -0.055519138, 0.07261971, 0.012...</td>\n",
       "    </tr>\n",
       "    <tr>\n",
       "      <th>104584</th>\n",
       "      <td>house sand fog behrani family died daughter ma...</td>\n",
       "      <td>25</td>\n",
       "      <td>female</td>\n",
       "      <td>115</td>\n",
       "      <td>house sand fog behrani family die daughter mar...</td>\n",
       "      <td>[-0.02100826, 0.08574633, -0.023208255, -0.004...</td>\n",
       "    </tr>\n",
       "    <tr>\n",
       "      <th>104585</th>\n",
       "      <td>excuse langauge fuck like keylogged msn says p...</td>\n",
       "      <td>17</td>\n",
       "      <td>male</td>\n",
       "      <td>67</td>\n",
       "      <td>excuse langauge fuck like keylogged msn say pa...</td>\n",
       "      <td>[-0.023355829, -0.034410615, 0.037249092, -0.0...</td>\n",
       "    </tr>\n",
       "  </tbody>\n",
       "</table>\n",
       "<p>100000 rows × 6 columns</p>\n",
       "</div>"
      ],
      "text/plain": [
       "                                                     post  age  gender  \\\n",
       "0                                ooh shiny new commenting   16  female   \n",
       "1       today parade suked bad band year battle today ...   14    male   \n",
       "2       know aabout anymore concerned everyday want bo...   24  female   \n",
       "3                                 roof sunset posted paul   24    male   \n",
       "4       god love nanny absolutely greatest woman earth...   23  female   \n",
       "...                                                   ...  ...     ...   \n",
       "104581  w y online gaming squared time try going want ...   24    male   \n",
       "104582                         jeremy concert high school   41  female   \n",
       "104583  hey great weekend went laura fun sunday sat da...   17    male   \n",
       "104584  house sand fog behrani family died daughter ma...   25  female   \n",
       "104585  excuse langauge fuck like keylogged msn says p...   17    male   \n",
       "\n",
       "        length                                          lemmatize  \\\n",
       "0            4                           ooh shiny new commenting   \n",
       "1           48  today parade suke bad band year battle today k...   \n",
       "2           80  know aabout anymore concerned everyday want bo...   \n",
       "3            7                              roof sunset post paul   \n",
       "4          730  god love nanny absolutely great woman earth kn...   \n",
       "...        ...                                                ...   \n",
       "104581      61  w y online gaming square time try going want g...   \n",
       "104582       9                         jeremy concert high school   \n",
       "104583     126  hey great weekend go laura fun sunday sat day ...   \n",
       "104584     115  house sand fog behrani family die daughter mar...   \n",
       "104585      67  excuse langauge fuck like keylogged msn say pa...   \n",
       "\n",
       "                                                embedding  \n",
       "0       [-0.18770814, -0.13998552, 0.019073976, 0.0225...  \n",
       "1       [-0.11394925, 0.02999169, 0.014715457, -0.0732...  \n",
       "2       [-0.10992989, -0.04249898, 0.019761039, 0.0499...  \n",
       "3       [-0.046943568, 0.13227944, 0.02199171, 0.00461...  \n",
       "4       [-0.03844242, -0.08146381, 0.017230963, 0.0577...  \n",
       "...                                                   ...  \n",
       "104581  [-0.022314172, -0.12119941, -0.022755269, -0.0...  \n",
       "104582  [0.0012280531, 0.0471571, 0.042628232, -0.0627...  \n",
       "104583  [-0.050709814, -0.055519138, 0.07261971, 0.012...  \n",
       "104584  [-0.02100826, 0.08574633, -0.023208255, -0.004...  \n",
       "104585  [-0.023355829, -0.034410615, 0.037249092, -0.0...  \n",
       "\n",
       "[100000 rows x 6 columns]"
      ]
     },
     "execution_count": 81,
     "metadata": {},
     "output_type": "execute_result"
    }
   ],
   "source": [
    "train"
   ]
  },
  {
   "cell_type": "code",
   "execution_count": 83,
   "metadata": {},
   "outputs": [],
   "source": [
    "X = train['embedding'].to_list() # ,'has_young_word', 'word_count', 'has_emoticon', 'has_punctuation', 'has_URL'\n",
    "# X = pd.DataFrame(embedding['embedding'].to_list(), columns=[f'embedding_{i+1}' for i in range(384)])\n",
    "# X = pd.concat([X, features], axis = 1)\n",
    "y = train['gender'].to_list()"
   ]
  },
  {
   "cell_type": "code",
   "execution_count": 84,
   "metadata": {},
   "outputs": [],
   "source": [
    "# Devo creare dove allenare il modello\n",
    "from sklearn.model_selection import train_test_split\n",
    "X_train, X_val, y_train, y_val = train_test_split(X, y, test_size = 0.2, stratify = y) "
   ]
  },
  {
   "cell_type": "code",
   "execution_count": 85,
   "metadata": {},
   "outputs": [
    {
     "data": {
      "text/html": [
       "<style>#sk-container-id-1 {color: black;background-color: white;}#sk-container-id-1 pre{padding: 0;}#sk-container-id-1 div.sk-toggleable {background-color: white;}#sk-container-id-1 label.sk-toggleable__label {cursor: pointer;display: block;width: 100%;margin-bottom: 0;padding: 0.3em;box-sizing: border-box;text-align: center;}#sk-container-id-1 label.sk-toggleable__label-arrow:before {content: \"▸\";float: left;margin-right: 0.25em;color: #696969;}#sk-container-id-1 label.sk-toggleable__label-arrow:hover:before {color: black;}#sk-container-id-1 div.sk-estimator:hover label.sk-toggleable__label-arrow:before {color: black;}#sk-container-id-1 div.sk-toggleable__content {max-height: 0;max-width: 0;overflow: hidden;text-align: left;background-color: #f0f8ff;}#sk-container-id-1 div.sk-toggleable__content pre {margin: 0.2em;color: black;border-radius: 0.25em;background-color: #f0f8ff;}#sk-container-id-1 input.sk-toggleable__control:checked~div.sk-toggleable__content {max-height: 200px;max-width: 100%;overflow: auto;}#sk-container-id-1 input.sk-toggleable__control:checked~label.sk-toggleable__label-arrow:before {content: \"▾\";}#sk-container-id-1 div.sk-estimator input.sk-toggleable__control:checked~label.sk-toggleable__label {background-color: #d4ebff;}#sk-container-id-1 div.sk-label input.sk-toggleable__control:checked~label.sk-toggleable__label {background-color: #d4ebff;}#sk-container-id-1 input.sk-hidden--visually {border: 0;clip: rect(1px 1px 1px 1px);clip: rect(1px, 1px, 1px, 1px);height: 1px;margin: -1px;overflow: hidden;padding: 0;position: absolute;width: 1px;}#sk-container-id-1 div.sk-estimator {font-family: monospace;background-color: #f0f8ff;border: 1px dotted black;border-radius: 0.25em;box-sizing: border-box;margin-bottom: 0.5em;}#sk-container-id-1 div.sk-estimator:hover {background-color: #d4ebff;}#sk-container-id-1 div.sk-parallel-item::after {content: \"\";width: 100%;border-bottom: 1px solid gray;flex-grow: 1;}#sk-container-id-1 div.sk-label:hover label.sk-toggleable__label {background-color: #d4ebff;}#sk-container-id-1 div.sk-serial::before {content: \"\";position: absolute;border-left: 1px solid gray;box-sizing: border-box;top: 0;bottom: 0;left: 50%;z-index: 0;}#sk-container-id-1 div.sk-serial {display: flex;flex-direction: column;align-items: center;background-color: white;padding-right: 0.2em;padding-left: 0.2em;position: relative;}#sk-container-id-1 div.sk-item {position: relative;z-index: 1;}#sk-container-id-1 div.sk-parallel {display: flex;align-items: stretch;justify-content: center;background-color: white;position: relative;}#sk-container-id-1 div.sk-item::before, #sk-container-id-1 div.sk-parallel-item::before {content: \"\";position: absolute;border-left: 1px solid gray;box-sizing: border-box;top: 0;bottom: 0;left: 50%;z-index: -1;}#sk-container-id-1 div.sk-parallel-item {display: flex;flex-direction: column;z-index: 1;position: relative;background-color: white;}#sk-container-id-1 div.sk-parallel-item:first-child::after {align-self: flex-end;width: 50%;}#sk-container-id-1 div.sk-parallel-item:last-child::after {align-self: flex-start;width: 50%;}#sk-container-id-1 div.sk-parallel-item:only-child::after {width: 0;}#sk-container-id-1 div.sk-dashed-wrapped {border: 1px dashed gray;margin: 0 0.4em 0.5em 0.4em;box-sizing: border-box;padding-bottom: 0.4em;background-color: white;}#sk-container-id-1 div.sk-label label {font-family: monospace;font-weight: bold;display: inline-block;line-height: 1.2em;}#sk-container-id-1 div.sk-label-container {text-align: center;}#sk-container-id-1 div.sk-container {/* jupyter's `normalize.less` sets `[hidden] { display: none; }` but bootstrap.min.css set `[hidden] { display: none !important; }` so we also need the `!important` here to be able to override the default hidden behavior on the sphinx rendered scikit-learn.org. See: https://github.com/scikit-learn/scikit-learn/issues/21755 */display: inline-block !important;position: relative;}#sk-container-id-1 div.sk-text-repr-fallback {display: none;}</style><div id=\"sk-container-id-1\" class=\"sk-top-container\"><div class=\"sk-text-repr-fallback\"><pre>LogisticRegression()</pre><b>In a Jupyter environment, please rerun this cell to show the HTML representation or trust the notebook. <br />On GitHub, the HTML representation is unable to render, please try loading this page with nbviewer.org.</b></div><div class=\"sk-container\" hidden><div class=\"sk-item\"><div class=\"sk-estimator sk-toggleable\"><input class=\"sk-toggleable__control sk-hidden--visually\" id=\"sk-estimator-id-1\" type=\"checkbox\" checked><label for=\"sk-estimator-id-1\" class=\"sk-toggleable__label sk-toggleable__label-arrow\">LogisticRegression</label><div class=\"sk-toggleable__content\"><pre>LogisticRegression()</pre></div></div></div></div></div>"
      ],
      "text/plain": [
       "LogisticRegression()"
      ]
     },
     "execution_count": 85,
     "metadata": {},
     "output_type": "execute_result"
    }
   ],
   "source": [
    "#Il modello che usiamo\n",
    "from sklearn.linear_model import LogisticRegression\n",
    "lr = LogisticRegression()\n",
    "#Alleno il modello\n",
    "lr.fit(X_train, y_train)"
   ]
  },
  {
   "cell_type": "code",
   "execution_count": 104,
   "metadata": {},
   "outputs": [],
   "source": [
    "#Il prdict del modello\n",
    "from sklearn import metrics\n",
    "predicted = lr.predict(X_val) #questo mi servirà dentro la funzione da chiamare"
   ]
  },
  {
   "cell_type": "code",
   "execution_count": 117,
   "metadata": {},
   "outputs": [],
   "source": [
    "#la funzione dentro Gradio\n",
    "def profAiling(post):\n",
    "    post = preprocessing(post).reshape(1,-1)\n",
    "    #print(post)\n",
    "    predicted = lr.predict(post)\n",
    "    \n",
    "    return predicted[0]"
   ]
  },
  {
   "cell_type": "code",
   "execution_count": 118,
   "metadata": {},
   "outputs": [
    {
     "data": {
      "text/plain": [
       "'male'"
      ]
     },
     "execution_count": 118,
     "metadata": {},
     "output_type": "execute_result"
    }
   ],
   "source": [
    "profAiling(\"War American President\")"
   ]
  },
  {
   "cell_type": "code",
   "execution_count": 119,
   "metadata": {},
   "outputs": [],
   "source": [
    "#define gradio interface and other parameters\n",
    "app =  gr.Interface(fn = profAiling, inputs=\"text\", outputs=\"text\")"
   ]
  },
  {
   "cell_type": "code",
   "execution_count": 120,
   "metadata": {},
   "outputs": [
    {
     "name": "stdout",
     "output_type": "stream",
     "text": [
      "Running on local URL:  http://127.0.0.1:7865\n",
      "\n",
      "To create a public link, set `share=True` in `launch()`.\n"
     ]
    },
    {
     "data": {
      "text/html": [
       "<div><iframe src=\"http://127.0.0.1:7865/\" width=\"100%\" height=\"500\" allow=\"autoplay; camera; microphone; clipboard-read; clipboard-write;\" frameborder=\"0\" allowfullscreen></iframe></div>"
      ],
      "text/plain": [
       "<IPython.core.display.HTML object>"
      ]
     },
     "metadata": {},
     "output_type": "display_data"
    },
    {
     "data": {
      "text/plain": []
     },
     "execution_count": 120,
     "metadata": {},
     "output_type": "execute_result"
    }
   ],
   "source": [
    "app.launch()"
   ]
  }
 ],
 "metadata": {
  "kernelspec": {
   "display_name": "Python 3",
   "language": "python",
   "name": "python3"
  },
  "language_info": {
   "codemirror_mode": {
    "name": "ipython",
    "version": 3
   },
   "file_extension": ".py",
   "mimetype": "text/x-python",
   "name": "python",
   "nbconvert_exporter": "python",
   "pygments_lexer": "ipython3",
   "version": "3.11.3"
  },
  "orig_nbformat": 4
 },
 "nbformat": 4,
 "nbformat_minor": 2
}
