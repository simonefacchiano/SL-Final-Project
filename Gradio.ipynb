{
 "cells": [
  {
   "cell_type": "code",
   "execution_count": 20,
   "metadata": {},
   "outputs": [],
   "source": [
    "import gradio as gr"
   ]
  },
  {
   "cell_type": "code",
   "execution_count": 21,
   "metadata": {},
   "outputs": [],
   "source": [
    "import pandas as pd\n",
    "import json\n",
    "import numpy as np\n",
    "import spacy\n",
    "import string\n",
    "import nltk\n",
    "from nltk.corpus import stopwords\n",
    "import warnings\n",
    "warnings.filterwarnings(\"ignore\")\n",
    "from spacy import tokenizer\n",
    "from spacy.lang.en import English\n",
    "from nltk.tokenize import sent_tokenize\n",
    "import re\n",
    "from bs4 import BeautifulSoup\n",
    "import unicodedata\n",
    "import pickle"
   ]
  },
  {
   "cell_type": "code",
   "execution_count": 22,
   "metadata": {},
   "outputs": [],
   "source": [
    "# https://towardsdatascience.com/text-normalization-for-natural-language-processing-nlp-70a314bfa646\n",
    "# Not as efficient as other specialized packets... bu at least it works well\n",
    "contractions_dict = {\"ain't\": \"are not\", \"'s\":\" \", \" s \":\" is\", \"aren't\": \"are not\", \"Aren't\": \"are not\", \"Can't\": \"can not\", \"can't\": \"can not\", \"can't\": \"cannot\", \"can't've\": \"cannot have\", \"'cause\": \"because\", \"could've\": \"could have\", \"couldn't\": \"could not\", \"couldn't've\": \"could not have\", \"didn't\": \"did not\", \"doesn't\": \"does not\", \"don't\": \"do not\", \"don t\": \"do not\", \"dont\": \"do not\", \"dunno\": \"do not know\", \"hadn't\": \"had not\", \"hadn't've\": \"had not have\", \"hasn't\": \"has not\", \"haven't\": \"have not\", \"he'd\": \"he would\", \"he'd've\": \"he would have\", \"he'll\": \"he will\", \" hes \": \" he is \", \"he'll've\": \"he will have\", \"how'd\": \"how did\", \"how'd'y\": \"how do you\", \"how'll\": \"how will\", \"I'd\": \"I would\", \"I'd've\": \"I would have\", \"I'll\": \"I will\", \"i'll\": \"i will\", \"'ll\":\" will\", \"I'll've\": \"I will have\", \"I’m\": \"I am\", \"i'm\": \"i am\", \"'m\": \" am\", \" im \": \" i am \", \"I've\": \"I have\", \"i've\": \"i have\", \"I've\": \"I have\", \"havent\": \"have not\", \"isn't\": \"is not\", \"it'd\": \"it would\", \"it'd've\": \"it would have\", \"it'll\": \"it will\", \"it'll’ve\": \"it will have\", \"let's\": \"let us\", \"lets\": \"let us\", \"ma'am\": \"madam\", \"mayn't\": \"may not\", \"might've\": \"might have\", \"mightn't\": \"might not\", \"mightn't've\": \"might not have\", \"must've\": \"must have\", \"mustn't\": \"must not\", \"mustn't've\": \"must not have\", \"needn't\": \"need not\", \"needn't’ve\": \"need not have\", \"o'clock\": \"of the clock\", \"oughtn't\": \"ought not\", \"oughtn't've\": \"ought not have\", \"shan't\": \"shall not\", \"sha'n't\": \"shall not\", \"shan't've\": \"shall not have\", \"she'd\": \"she would\", \"she'd've\": \"she would have\", \"She'll\": \"she will\", \"she'll\": \"she will\", \"she'll've\": \"she will have\", \"should've\": \"should have\", \"shouldn't\": \"should not\", \"shouldn't've\": \"should not have\", \"so've\": \"so have\", \"that'd\": \"that would\", \"that'd've\": \"that would have\", \"there'd\": \"there would\", \"there'd've\": \"there would have\", \"they'd\": \"they would\", \"they'd've\": \"they would have\",\"they'll\": \"they will\", \"wont\": \"will not\",\n",
    "  \"they'll've\": \"they will have\", \"they're\": \"they are\", \"they've\": \"they have\", \"to've\": \"to have\", \"wasn't\": \"was not\", \"we'd\": \"we would\", \"we'd've\": \"we would have\", \"we'll\": \"we will\", \"we'll've\": \"we will have\", \"we're\": \"we are\", \"we've\": \"we have\", \"weren't\": \"were not\",\"what'll\": \"what will\", \"what'll've\": \"what will have\", \"what're\": \"what are\", \"what've\": \"what have\", \"when've\": \"when have\", \"where’d\": \"where did\", \"where've\": \"where have\",\n",
    "  \"who'll\": \"who will\", \"who'll've\": \"who will have\", \"who've\": \"who have\", \"why've\": \"why have\", \"will've\": \"will have\", \"won't\": \"will not\", \"won't've\": \"will not have\", \"would've\": \"would have\", \"wouldn't\": \"would not\", \"wouldn't've\": \"would not have\", \"y’all\": \"you all\", \"y'all'd\": \"you all would\", \"y'all'd've\": \"you all would have\", \"y'all're\": \"you all are\", \"y'all've\": \"you all have\", \"you'd\": \"you would\", \"you'd've\": \"you would have\", \"you'll\": \"you will\", \"You'll\": \"you will\", \"you'll've\": \"you will have\", \"You're\": \"you are\", \"you're\": \"you are\", \"you've\": \"you have\", \"wanna\": \"want to\", \" u \": \" you \", \" r \": \" are \", \"gawd\": \"god\", \"urlLink\": \"\", \"luv\": \"love\", \"Luv\": \"Love\", \"wuts\": \"what is\", \"wasnt\": \"was not\", \"Wasnt\": \"was not\", \" bday \": \"birthday\", \" gotta \": \"got to\", \"gonna\": \"going to\",\n",
    "  \"nvr\": \"never\", \" cuz \": \" because \", \" cos \": \" because \",\" cant \": \" can not \", \"yr\": \" years old\", \"i\\'d\": \"i\\ would\", \"they\\'d\": \"they\\ would\", \"we\\'re\": \"we\\ are\", \"shouldn\\'t\": \"should\\ not\", \"Don\\'t\": \"Do\\ not\", \"won\\'t\": \"will\\ not\", \"haven\\'t\": \"have\\ not\", \"you\\'re\": \"you\\ are\", \"they\\'re\": \"they\\ are\", \"Didn\\'t\": \"Did\\ not\", \"Hasn\\'t\": \"Has\\ not\", \"I\\'d\": \"I\\ would\", \"you\\'ve\": \"you\\ have\", \"peeps\": \"people\", \"it's\": \"it is\", \"kinda\": \"kind of\", \"buyin\": \"buying\", \"Its\": \"It is\", \"bout\": \"about\", \" ppl \": \" people \", \" n \": \" and \", \"enuf\": \"enough\", \"btw\": \"by the way\", \"BTW\": \"BY THE WAY\", 'b/c': \"because\", \" aabout\": \"about\", \" aaabout\": \"about\", \"aaaabout\": \"about\"}"
   ]
  },
  {
   "cell_type": "code",
   "execution_count": 23,
   "metadata": {},
   "outputs": [],
   "source": [
    "contractions_re = re.compile('(%s)'%'|'.join(contractions_dict.keys()))\n",
    "def expand_contractions(s, contractions_dict=contractions_dict):\n",
    "  def replace(match):\n",
    "    return contractions_dict[match.group(0)]\n",
    "  return contractions_re.sub(replace, s)\n",
    "def lowering(text):\n",
    "    return text.lower()\n",
    "def remove_url(text):\n",
    "    return re.sub(r'https?://\\S+|www\\.\\S+', '', text)\n",
    "def remove_html_tags_func(text):\n",
    "    return BeautifulSoup(text, 'html.parser').get_text()\n",
    "def remove_accents(text):\n",
    "    return unicodedata.normalize('NFKD', text).encode('ascii', 'ignore').decode('utf-8', 'ignore')\n",
    "def remove_punctuation(text):\n",
    "    # return re.sub(r'[^a-zA-Z0-9]', ' ', text) # --> if you allow for numbers\n",
    "    return re.sub(r'[^a-zA-Z]', ' ', text) # --> if you do not allow for numbers\n",
    "def remove_extra_spaces(text):\n",
    "    return re.sub(r'^\\s*|\\s\\s*', ' ', text).strip()\n",
    "\n",
    "en = spacy.load('en_core_web_sm')\n",
    "sw_spacy = en.Defaults.stop_words\n",
    "\n",
    "def delete_stopwords(text):\n",
    "    words = [word for word in text.split() if word.lower() not in sw_spacy]\n",
    "    new_text = \" \".join(words)\n",
    "    return new_text\n",
    "\n",
    "def lemmatizer(sentence):\n",
    "    doc = nlp(sentence)\n",
    "\n",
    "    # Lemmatize:\n",
    "    mytokens = [word.lemma_.strip() for word in doc]\n",
    "\n",
    "    # Re-join\n",
    "    sentence = \" \".join(mytokens)\n",
    "\n",
    "    # Return the sentence\n",
    "    return(sentence)"
   ]
  },
  {
   "cell_type": "code",
   "execution_count": 24,
   "metadata": {},
   "outputs": [],
   "source": [
    "from sentence_transformers import SentenceTransformer\n",
    "model = SentenceTransformer('all-MiniLM-L6-v2') "
   ]
  },
  {
   "cell_type": "code",
   "execution_count": 25,
   "metadata": {},
   "outputs": [],
   "source": [
    "#Funzione che faccia il preprocessing\n",
    "def preprocessing(post):\n",
    "    post = expand_contractions(post)\n",
    "    post = lowering(post)\n",
    "    post = remove_url(post)\n",
    "    post = remove_html_tags_func(post)\n",
    "    post  = remove_accents(post)\n",
    "    post = remove_punctuation(post)\n",
    "    post = remove_extra_spaces(post)\n",
    "    post = delete_stopwords(post)\n",
    "    post = model.encode(post)\n",
    "    return post"
   ]
  },
  {
   "cell_type": "code",
   "execution_count": 26,
   "metadata": {},
   "outputs": [
    {
     "data": {
      "text/plain": [
       "array([-1.05435029e-01, -2.22503748e-02,  2.27699112e-02,  5.09012267e-02,\n",
       "       -1.88462678e-02, -7.90636167e-02,  3.55912708e-02,  3.37074287e-02,\n",
       "        1.90408658e-02,  7.16680335e-03, -5.40326349e-03, -4.87990417e-02,\n",
       "       -4.49391641e-02, -2.36380640e-02,  3.21930088e-02,  9.02613103e-02,\n",
       "        1.11137420e-01, -5.75760426e-03, -1.16802290e-01,  4.15906534e-02,\n",
       "        3.46617177e-02,  9.92389116e-03, -9.17087644e-02,  7.94417411e-03,\n",
       "       -7.40805268e-02, -2.87805796e-02,  4.86160330e-02,  4.37728763e-02,\n",
       "        3.21470872e-02,  4.92233783e-03, -4.35721464e-02, -3.20933782e-03,\n",
       "        4.92340326e-02,  2.96427067e-02,  5.86210284e-03,  3.44268866e-02,\n",
       "       -1.69891305e-02, -1.04742073e-01,  6.85539097e-02,  2.05690470e-02,\n",
       "        4.80734222e-02, -2.10309215e-02, -3.52458693e-02,  3.16280164e-02,\n",
       "        4.90955785e-02, -3.02880257e-02,  5.27979247e-02,  1.33442041e-02,\n",
       "        6.06348626e-02, -1.81277599e-02, -1.25266239e-01, -3.14575657e-02,\n",
       "       -2.93194558e-02,  1.75767075e-02,  1.05988570e-01,  6.99934512e-02,\n",
       "        7.12295771e-02, -2.05989443e-02,  5.53358570e-02, -5.45041915e-03,\n",
       "       -4.55285273e-02,  9.37833637e-02, -1.29270945e-02, -2.62706894e-02,\n",
       "        1.00195721e-01, -7.36995041e-02, -6.83217272e-02, -5.63707426e-02,\n",
       "        8.57338496e-03, -2.60700677e-02, -2.48659551e-02,  5.25812469e-02,\n",
       "       -6.91641420e-02, -3.23500298e-02, -2.83766147e-02,  5.83749153e-02,\n",
       "        2.32875701e-02,  1.34640997e-02,  9.19979364e-02, -3.76125239e-02,\n",
       "        1.11528952e-02, -9.02257189e-02, -2.73785926e-03, -5.30435108e-02,\n",
       "       -7.38038495e-02,  2.05191690e-02,  4.38964367e-02,  5.97653538e-02,\n",
       "       -1.68351121e-02, -1.17952488e-02, -1.81942843e-02,  9.50385816e-04,\n",
       "        3.61077152e-02, -2.17685513e-02, -1.14426486e-01, -4.80433693e-03,\n",
       "        2.97662336e-02,  4.66688946e-02, -9.56295505e-02,  1.71104267e-01,\n",
       "        1.63629558e-02,  4.79979068e-02, -1.15104169e-02,  3.69008966e-02,\n",
       "       -5.30325621e-03, -2.87669189e-02,  8.12335289e-04,  9.64432880e-02,\n",
       "       -5.65043576e-02,  3.75227667e-02,  5.30292988e-02, -3.07172798e-02,\n",
       "       -2.11243518e-02, -3.64297405e-02,  2.30823886e-02, -1.93441454e-02,\n",
       "       -3.49440202e-02,  4.96206619e-03,  4.46660295e-02, -3.38737629e-02,\n",
       "        1.41420430e-02, -4.81299385e-02, -1.28631992e-02, -6.93988502e-02,\n",
       "        2.09295880e-02, -7.86128454e-03, -3.27319503e-02,  2.41982253e-33,\n",
       "       -2.71372013e-02, -2.21725050e-02, -7.40258582e-03,  9.21082422e-02,\n",
       "       -5.06509617e-02,  1.59498565e-02,  9.99487843e-03, -4.13020141e-02,\n",
       "       -1.29094515e-02, -3.51700336e-02,  1.81043725e-02, -2.92894486e-02,\n",
       "       -5.66674322e-02, -2.82822817e-04, -7.23184198e-02,  1.01580266e-02,\n",
       "       -2.02295613e-02,  5.31159639e-02, -6.57916814e-03,  4.10469137e-02,\n",
       "       -7.34131336e-02, -7.13687241e-02,  4.10411805e-02,  2.50128135e-02,\n",
       "        2.95179635e-02,  7.63485953e-03, -8.15965515e-03, -1.01219401e-01,\n",
       "        5.54170310e-02,  3.35478373e-02, -2.01618727e-02, -1.31225667e-03,\n",
       "       -4.80484478e-02,  2.88841501e-02, -1.72431041e-02,  2.24577785e-02,\n",
       "        4.23472747e-02, -7.66261965e-02, -2.22054236e-02, -2.92182285e-02,\n",
       "       -5.00776172e-02,  7.24810809e-02, -1.41178565e-02,  1.55717321e-02,\n",
       "        6.57213703e-02,  1.05163120e-02, -3.98734864e-03,  2.75551081e-02,\n",
       "        8.42113327e-03, -2.50804741e-02, -5.25769927e-02,  6.21542968e-02,\n",
       "       -4.58902828e-02, -6.84074499e-03, -2.27052625e-02, -2.03988831e-02,\n",
       "        4.20451984e-02, -1.90793835e-02,  3.26355770e-02,  5.44301420e-02,\n",
       "        2.49696393e-02,  6.69945180e-02,  2.60054204e-03, -7.90325925e-02,\n",
       "       -1.04658723e-01, -2.40492877e-02,  5.49785420e-02, -3.30768265e-02,\n",
       "        2.19315328e-02,  1.16300024e-02, -2.42482014e-02,  1.62187312e-02,\n",
       "       -3.52573916e-02, -1.91840827e-02,  2.51439419e-02,  4.41992730e-02,\n",
       "        2.96469908e-02, -1.88834302e-03,  4.68587242e-02, -1.98221002e-02,\n",
       "        4.75613326e-02, -9.87131242e-03, -8.93573961e-05, -1.50756165e-02,\n",
       "       -4.44374140e-03,  4.71943766e-02,  4.99581061e-02, -9.18996781e-02,\n",
       "        1.53906283e-03, -4.88400348e-02, -9.21265632e-02,  5.63281849e-02,\n",
       "        4.49853726e-02, -2.58577652e-02, -4.40118276e-02, -1.66484200e-33,\n",
       "        1.17767587e-01, -2.50648009e-04, -1.04755871e-01, -8.46346766e-02,\n",
       "        7.20767826e-02, -4.44234461e-02, -2.64466740e-02,  1.25063285e-01,\n",
       "       -7.89260790e-02,  5.68847954e-02, -1.27444472e-02,  8.97454470e-03,\n",
       "        1.32631421e-01, -5.32087609e-02,  1.04435287e-01,  2.41824612e-03,\n",
       "        1.94161713e-01,  2.40866542e-02, -1.38957407e-02,  9.66302585e-03,\n",
       "       -5.93421012e-02, -2.56985091e-02, -4.09709290e-02, -1.67527497e-02,\n",
       "       -7.76923075e-03, -2.78810766e-02,  3.62909795e-03,  4.18859161e-03,\n",
       "       -1.55545101e-01, -3.38093117e-02,  1.55972131e-02,  4.81913052e-03,\n",
       "       -3.32117081e-02, -4.70856484e-03,  1.54855419e-02,  4.17566225e-02,\n",
       "        2.69272272e-02, -1.09250903e-01, -9.03672259e-03, -4.93732765e-02,\n",
       "       -1.68320704e-02, -2.50136312e-02, -1.95755307e-02, -1.69859994e-02,\n",
       "       -3.52750644e-02, -4.61845100e-02, -3.47709912e-03,  1.12559488e-02,\n",
       "       -5.77515550e-02,  5.80988266e-02, -4.83924933e-02, -5.65757696e-03,\n",
       "       -3.40169296e-03,  2.97064502e-02, -5.80204166e-02,  4.55513373e-02,\n",
       "        1.34622566e-02,  4.55975439e-03, -2.30207760e-02,  2.13806313e-02,\n",
       "        2.74970569e-02,  1.00364603e-01,  7.49722868e-02,  8.70183781e-02,\n",
       "        2.97213607e-02,  5.71599081e-02,  2.54532751e-02, -4.21432927e-02,\n",
       "       -1.41786765e-02,  6.31477404e-03,  1.03554910e-03,  5.44203855e-02,\n",
       "       -6.50081560e-02, -2.34791078e-02, -2.17081630e-03, -9.35070449e-04,\n",
       "        1.45374509e-02,  3.86447906e-02,  8.59065875e-02, -4.30223569e-02,\n",
       "        4.76301014e-02,  4.47885133e-02,  2.03956924e-02,  1.06142592e-02,\n",
       "        6.51048198e-02,  3.39228436e-02,  1.42183289e-01,  5.57414219e-02,\n",
       "        6.40198439e-02, -1.02593221e-01,  3.98875587e-02,  1.00944629e-02,\n",
       "       -9.64016281e-03,  7.07174093e-02, -1.95288341e-02, -2.02769446e-08,\n",
       "        3.08127478e-02,  4.48598117e-02,  7.49326199e-02,  4.94999141e-02,\n",
       "       -2.25503445e-02,  7.19717070e-02, -1.78138986e-02, -4.90512736e-02,\n",
       "       -5.87275364e-02,  4.32470776e-02,  4.42636944e-02,  6.24039434e-02,\n",
       "       -1.65372584e-02,  3.43608926e-03,  8.39313045e-02,  4.47759442e-02,\n",
       "       -5.39068580e-02, -3.71617265e-02, -4.65673357e-02, -1.20548159e-01,\n",
       "       -4.24668118e-02,  8.62809923e-03,  5.87282442e-02, -2.52892189e-02,\n",
       "       -7.49294600e-03, -4.17402051e-02,  4.51419242e-02,  3.55477370e-02,\n",
       "       -4.80894782e-02,  2.78710965e-02, -6.31570667e-02,  7.95324221e-02,\n",
       "       -9.57290307e-02, -3.63279227e-03, -1.86772719e-02, -4.17444482e-02,\n",
       "        1.32176587e-02,  6.66746646e-02,  5.53193651e-02, -6.79584444e-02,\n",
       "       -2.01714616e-02, -3.50274667e-02, -4.42789756e-02, -4.72422354e-02,\n",
       "       -3.20514739e-02,  2.21659262e-02,  6.38256520e-02, -1.27583012e-01,\n",
       "        9.90227517e-03, -8.63228664e-02, -3.05284634e-02,  2.32246686e-02,\n",
       "        6.14251904e-02,  1.13528753e-02,  7.82071725e-02,  7.67228529e-02,\n",
       "        1.57625992e-02,  7.45706074e-03,  1.75742041e-02, -1.23288454e-02,\n",
       "        8.16143118e-03, -4.69542621e-03,  7.50163421e-02,  1.99657399e-02],\n",
       "      dtype=float32)"
      ]
     },
     "execution_count": 26,
     "metadata": {},
     "output_type": "execute_result"
    }
   ],
   "source": [
    "preprocessing(\"Hellooo, time can't wait to see you at https://example.com!             a   of \")"
   ]
  },
  {
   "cell_type": "code",
   "execution_count": 12,
   "metadata": {},
   "outputs": [
    {
     "data": {
      "text/plain": [
       "array([-1.26654357e-02, -1.07957739e-02,  4.44977209e-02,  7.04806596e-02,\n",
       "       -1.79892890e-02,  1.78552475e-02,  5.24795912e-02, -3.97726297e-02,\n",
       "        1.98965631e-02, -1.01639830e-01,  2.56993044e-02, -2.33228095e-02,\n",
       "       -4.96508889e-02,  5.13850786e-02,  5.44713810e-02,  6.18546568e-02,\n",
       "        2.57310290e-02, -1.19378120e-02,  2.73926370e-02,  2.17580646e-02,\n",
       "       -7.31968656e-02,  5.76196499e-02, -2.60549467e-02,  3.85884568e-02,\n",
       "       -6.69588447e-02,  4.64364886e-02,  1.19320065e-01,  2.80162022e-02,\n",
       "        1.05834408e-02,  5.72161153e-02,  9.33581665e-02,  2.24274211e-02,\n",
       "        1.08116902e-02,  2.92156357e-02,  1.04394266e-02,  6.17729314e-03,\n",
       "        2.02203859e-02, -1.19530410e-02,  3.26195508e-02, -9.22991522e-03,\n",
       "       -3.55683528e-02,  2.78363824e-02,  4.48241308e-02,  5.47719672e-02,\n",
       "        7.58266971e-02, -1.54657140e-01,  3.02674007e-02, -4.92230579e-02,\n",
       "       -1.03764050e-02, -2.04386488e-02, -7.14077055e-02, -1.39406323e-02,\n",
       "       -5.24549559e-02, -2.71480996e-02,  6.92888536e-03,  2.54270695e-02,\n",
       "        1.13654034e-02,  2.36491170e-02,  2.62010396e-02,  9.21168458e-03,\n",
       "        4.17526290e-02,  2.47319564e-02, -2.77217571e-02, -2.37008519e-02,\n",
       "        4.61096652e-02,  4.35816757e-02, -7.08123595e-02, -5.96668757e-02,\n",
       "        7.23492503e-02,  6.97482303e-02, -2.82396823e-02,  1.01553649e-02,\n",
       "       -1.04798906e-01,  4.34294780e-04, -9.05267000e-02,  2.14867555e-02,\n",
       "       -5.39158992e-02, -2.64770538e-02, -5.69228791e-02, -4.01962213e-02,\n",
       "        1.87442899e-02, -6.14531115e-02, -9.25416127e-03,  2.67956685e-02,\n",
       "        1.73645411e-02, -1.50139136e-02, -2.51002461e-02, -5.77088520e-02,\n",
       "       -5.44750467e-02, -2.95326803e-02,  7.17822509e-03, -1.14116985e-02,\n",
       "       -9.57282335e-02, -3.28255557e-02, -9.35948491e-02, -6.01119623e-02,\n",
       "       -2.26521678e-02, -2.69101784e-02, -3.05355452e-02,  1.05417609e-01,\n",
       "        1.28852820e-03,  7.62704611e-02, -6.01718808e-03,  6.43918440e-02,\n",
       "        7.43544102e-02,  6.27354980e-02,  5.28995208e-02,  3.22788283e-02,\n",
       "       -3.43962237e-02,  8.81847218e-02,  8.68217796e-02, -2.20644418e-02,\n",
       "       -3.33673175e-04, -3.36673576e-03,  2.32142787e-02, -8.32463354e-02,\n",
       "        2.08056290e-02, -1.27870287e-03,  2.87853871e-02,  1.11039177e-01,\n",
       "       -1.89060587e-02, -2.28420254e-02, -2.28975229e-02,  3.13015357e-02,\n",
       "       -4.73894142e-02, -9.06385183e-02,  1.07840285e-01, -1.12503166e-33,\n",
       "        6.05753921e-02, -7.88388774e-03,  1.03410631e-01,  6.46258071e-02,\n",
       "        1.03643902e-01,  2.06182189e-02, -5.99730983e-02, -7.69003779e-02,\n",
       "       -5.46348505e-02,  9.93097201e-03,  3.87539417e-02, -2.11559739e-02,\n",
       "        4.67449315e-02, -1.26683237e-02, -1.55757181e-02,  2.42214324e-03,\n",
       "        8.29555690e-02, -1.23972688e-02,  1.54599054e-02,  5.47194853e-02,\n",
       "        1.15445545e-02, -4.68846299e-02, -3.83623899e-03, -7.88336098e-02,\n",
       "       -3.13629918e-02, -2.47429404e-02,  1.09216701e-02,  1.93428062e-02,\n",
       "        9.87947285e-02, -6.41664583e-03,  6.67578867e-03,  1.38040543e-01,\n",
       "        5.79184145e-02,  6.55300841e-02,  6.98973238e-03,  6.24307082e-04,\n",
       "       -4.42591161e-02, -8.02881420e-02,  3.00609712e-02,  5.62068634e-02,\n",
       "        9.70155466e-03, -1.22454455e-02, -3.19412276e-02, -5.31665748e-03,\n",
       "       -2.40642019e-02,  7.58752525e-02, -2.87109846e-03,  2.87425760e-02,\n",
       "        9.72540956e-03, -6.16612919e-02, -8.01807418e-02, -1.97447352e-02,\n",
       "       -9.82174799e-02,  3.25340480e-02, -1.68791842e-02, -5.84790856e-02,\n",
       "        5.02884109e-03,  1.67926364e-02,  2.66429596e-02,  5.44297956e-02,\n",
       "        4.65518646e-02,  8.31151977e-02,  2.10523605e-02, -1.54745048e-02,\n",
       "       -1.22055309e-02, -8.26023817e-02,  2.14466732e-02, -2.07641851e-02,\n",
       "       -3.75033468e-02,  5.29436953e-02,  4.27055620e-02,  4.98741679e-02,\n",
       "        5.71816191e-02, -1.97743475e-02,  3.24495137e-02, -5.82660437e-02,\n",
       "       -4.86841276e-02, -6.67565595e-03, -4.65103500e-02, -3.37053128e-02,\n",
       "       -5.71781211e-02,  5.12921996e-02, -3.02353650e-02,  5.38062351e-03,\n",
       "        1.49861630e-03,  1.01963235e-02, -3.23711224e-02, -7.47012347e-02,\n",
       "       -6.86816052e-02, -3.75571265e-03, -6.15682080e-02,  2.73372103e-02,\n",
       "       -8.67237896e-02, -7.21417740e-02, -3.61746363e-02, -1.98999898e-34,\n",
       "        6.44614100e-02,  3.36054265e-02,  6.07641116e-02, -9.50388089e-02,\n",
       "        1.15623325e-02,  1.18240425e-02, -3.55451591e-02,  4.01359610e-02,\n",
       "        1.28013939e-01,  1.43852502e-01, -2.22275145e-02, -1.31971464e-02,\n",
       "        6.78298622e-02, -3.43867280e-02,  1.37056097e-01,  2.39177258e-03,\n",
       "        1.26704335e-01, -1.08954467e-01, -1.00555029e-02,  3.01588792e-02,\n",
       "        2.04272140e-02,  4.80542183e-02, -3.86865884e-02, -7.60448277e-02,\n",
       "       -6.48074821e-02, -1.61098912e-02,  4.97206599e-02,  6.80434331e-02,\n",
       "       -2.24319082e-02, -5.52634038e-02,  3.46375778e-02,  2.63157431e-02,\n",
       "       -5.53701073e-02,  7.00782286e-03, -7.66537860e-02,  1.50384098e-01,\n",
       "       -8.55096579e-02, -1.37998965e-02,  4.66713384e-02,  5.40039875e-02,\n",
       "        3.01854080e-03, -6.36383742e-02, -1.61476731e-02,  4.26898636e-02,\n",
       "        4.51524928e-02, -5.46118580e-02, -5.16117401e-02,  6.27249181e-02,\n",
       "       -3.64226326e-02, -6.82513341e-02,  1.05469879e-02,  5.35564311e-02,\n",
       "       -9.61268544e-02,  9.00909230e-02,  4.62812856e-02, -1.25703905e-02,\n",
       "       -6.64366968e-03,  3.63390781e-02, -2.23780666e-02,  6.41385699e-03,\n",
       "       -1.56492610e-02,  1.50317950e-02, -3.59278880e-02,  2.92881504e-02,\n",
       "        7.88903236e-03, -4.59297933e-02, -2.31301915e-02, -8.70947540e-02,\n",
       "       -3.39867212e-02, -2.81830598e-02, -5.42029329e-02, -5.70734301e-05,\n",
       "       -6.03182316e-02,  9.72415786e-03,  1.42503940e-02, -1.14977416e-02,\n",
       "       -2.37467512e-02,  4.27778028e-02,  3.78511064e-02, -1.53763676e-02,\n",
       "        2.68269815e-02,  3.16473804e-02, -3.66560519e-02,  4.44679223e-02,\n",
       "        2.53358297e-02, -2.73655429e-02, -6.33837804e-02, -2.44352557e-02,\n",
       "       -5.93712814e-02,  5.61478138e-02, -1.03729675e-02, -3.95440683e-02,\n",
       "       -4.63390164e-03, -4.18860652e-02, -5.47916852e-02, -1.38660212e-08,\n",
       "       -9.77764800e-02,  2.18059514e-02, -5.58955930e-02, -1.44360038e-02,\n",
       "        2.96004713e-02,  8.19947198e-02,  1.11210249e-01,  5.64695802e-03,\n",
       "       -2.96357069e-02,  7.57165104e-02, -6.51441067e-02,  4.05286998e-02,\n",
       "       -2.91840956e-02,  1.13766909e-01, -6.76984414e-02,  8.08747578e-03,\n",
       "        6.82233572e-02, -5.73219471e-02, -3.94154293e-03,  8.48554149e-02,\n",
       "        3.15076597e-02, -3.94108333e-02,  2.16948576e-02,  7.68662896e-03,\n",
       "        1.61968265e-02,  2.66780872e-02,  4.03054617e-02, -4.75259759e-02,\n",
       "        2.25309078e-02,  3.86352725e-02, -1.48315355e-03, -1.05976835e-02,\n",
       "       -3.90325710e-02,  1.04090320e-02,  9.12138522e-02, -3.16056572e-02,\n",
       "       -8.95753503e-03, -1.91561002e-02,  3.09727360e-02, -2.22696122e-04,\n",
       "        4.01368514e-02, -1.29252030e-02,  5.94193349e-03,  1.07189119e-02,\n",
       "       -1.24041820e-02,  1.42007368e-02,  5.92970587e-02, -1.20215835e-02,\n",
       "       -4.10224609e-02,  2.13355664e-02, -7.40961507e-02, -3.29498537e-02,\n",
       "       -1.46450857e-02, -2.07908098e-02, -2.04823632e-02, -1.23761162e-01,\n",
       "       -6.98635951e-02,  5.28902411e-02,  6.38203509e-03,  4.94384132e-02,\n",
       "        5.13035282e-02, -4.71999533e-02, -5.61212078e-02, -8.66403207e-02],\n",
       "      dtype=float32)"
      ]
     },
     "execution_count": 12,
     "metadata": {},
     "output_type": "execute_result"
    }
   ],
   "source": [
    "preprocessing(\"I was walking down the street and met my beautiful boyfriend\")"
   ]
  },
  {
   "cell_type": "code",
   "execution_count": 27,
   "metadata": {},
   "outputs": [],
   "source": [
    "train = pd.read_pickle('embedding_100k_prova2.pkl')"
   ]
  },
  {
   "cell_type": "code",
   "execution_count": 28,
   "metadata": {},
   "outputs": [],
   "source": [
    "train['age_class'] = pd.cut(\n",
    "        train[\"age\"],\n",
    "        bins=[12, 18, 28, 50],\n",
    "        labels=[0, 1, 2]\n",
    "    ).astype(\"int\")"
   ]
  },
  {
   "cell_type": "code",
   "execution_count": 29,
   "metadata": {},
   "outputs": [
    {
     "data": {
      "text/html": [
       "<div>\n",
       "<style scoped>\n",
       "    .dataframe tbody tr th:only-of-type {\n",
       "        vertical-align: middle;\n",
       "    }\n",
       "\n",
       "    .dataframe tbody tr th {\n",
       "        vertical-align: top;\n",
       "    }\n",
       "\n",
       "    .dataframe thead th {\n",
       "        text-align: right;\n",
       "    }\n",
       "</style>\n",
       "<table border=\"1\" class=\"dataframe\">\n",
       "  <thead>\n",
       "    <tr style=\"text-align: right;\">\n",
       "      <th></th>\n",
       "      <th>post</th>\n",
       "      <th>age</th>\n",
       "      <th>gender</th>\n",
       "      <th>length</th>\n",
       "      <th>lemmatize</th>\n",
       "      <th>embedding</th>\n",
       "      <th>age_class</th>\n",
       "    </tr>\n",
       "  </thead>\n",
       "  <tbody>\n",
       "    <tr>\n",
       "      <th>0</th>\n",
       "      <td>ooh shiny new commenting</td>\n",
       "      <td>16</td>\n",
       "      <td>female</td>\n",
       "      <td>4</td>\n",
       "      <td>ooh shiny new commenting</td>\n",
       "      <td>[-0.18770814, -0.13998552, 0.019073976, 0.0225...</td>\n",
       "      <td>0</td>\n",
       "    </tr>\n",
       "    <tr>\n",
       "      <th>1</th>\n",
       "      <td>today parade suked bad band year battle today ...</td>\n",
       "      <td>14</td>\n",
       "      <td>male</td>\n",
       "      <td>48</td>\n",
       "      <td>today parade suke bad band year battle today k...</td>\n",
       "      <td>[-0.11394925, 0.02999169, 0.014715457, -0.0732...</td>\n",
       "      <td>0</td>\n",
       "    </tr>\n",
       "    <tr>\n",
       "      <th>2</th>\n",
       "      <td>know aabout anymore concerned everyday want bo...</td>\n",
       "      <td>24</td>\n",
       "      <td>female</td>\n",
       "      <td>80</td>\n",
       "      <td>know aabout anymore concerned everyday want bo...</td>\n",
       "      <td>[-0.10992989, -0.04249898, 0.019761039, 0.0499...</td>\n",
       "      <td>1</td>\n",
       "    </tr>\n",
       "    <tr>\n",
       "      <th>3</th>\n",
       "      <td>roof sunset posted paul</td>\n",
       "      <td>24</td>\n",
       "      <td>male</td>\n",
       "      <td>7</td>\n",
       "      <td>roof sunset post paul</td>\n",
       "      <td>[-0.046943568, 0.13227944, 0.02199171, 0.00461...</td>\n",
       "      <td>1</td>\n",
       "    </tr>\n",
       "    <tr>\n",
       "      <th>4</th>\n",
       "      <td>god love nanny absolutely greatest woman earth...</td>\n",
       "      <td>23</td>\n",
       "      <td>female</td>\n",
       "      <td>730</td>\n",
       "      <td>god love nanny absolutely great woman earth kn...</td>\n",
       "      <td>[-0.03844242, -0.08146381, 0.017230963, 0.0577...</td>\n",
       "      <td>1</td>\n",
       "    </tr>\n",
       "    <tr>\n",
       "      <th>...</th>\n",
       "      <td>...</td>\n",
       "      <td>...</td>\n",
       "      <td>...</td>\n",
       "      <td>...</td>\n",
       "      <td>...</td>\n",
       "      <td>...</td>\n",
       "      <td>...</td>\n",
       "    </tr>\n",
       "    <tr>\n",
       "      <th>104581</th>\n",
       "      <td>w y online gaming squared time try going want ...</td>\n",
       "      <td>24</td>\n",
       "      <td>male</td>\n",
       "      <td>61</td>\n",
       "      <td>w y online gaming square time try going want g...</td>\n",
       "      <td>[-0.022314172, -0.12119941, -0.022755269, -0.0...</td>\n",
       "      <td>1</td>\n",
       "    </tr>\n",
       "    <tr>\n",
       "      <th>104582</th>\n",
       "      <td>jeremy concert high school</td>\n",
       "      <td>41</td>\n",
       "      <td>female</td>\n",
       "      <td>9</td>\n",
       "      <td>jeremy concert high school</td>\n",
       "      <td>[0.0012280531, 0.0471571, 0.042628232, -0.0627...</td>\n",
       "      <td>2</td>\n",
       "    </tr>\n",
       "    <tr>\n",
       "      <th>104583</th>\n",
       "      <td>hey great weekend went laura fun sunday sat da...</td>\n",
       "      <td>17</td>\n",
       "      <td>male</td>\n",
       "      <td>126</td>\n",
       "      <td>hey great weekend go laura fun sunday sat day ...</td>\n",
       "      <td>[-0.050709814, -0.055519138, 0.07261971, 0.012...</td>\n",
       "      <td>0</td>\n",
       "    </tr>\n",
       "    <tr>\n",
       "      <th>104584</th>\n",
       "      <td>house sand fog behrani family died daughter ma...</td>\n",
       "      <td>25</td>\n",
       "      <td>female</td>\n",
       "      <td>115</td>\n",
       "      <td>house sand fog behrani family die daughter mar...</td>\n",
       "      <td>[-0.02100826, 0.08574633, -0.023208255, -0.004...</td>\n",
       "      <td>1</td>\n",
       "    </tr>\n",
       "    <tr>\n",
       "      <th>104585</th>\n",
       "      <td>excuse langauge fuck like keylogged msn says p...</td>\n",
       "      <td>17</td>\n",
       "      <td>male</td>\n",
       "      <td>67</td>\n",
       "      <td>excuse langauge fuck like keylogged msn say pa...</td>\n",
       "      <td>[-0.023355829, -0.034410615, 0.037249092, -0.0...</td>\n",
       "      <td>0</td>\n",
       "    </tr>\n",
       "  </tbody>\n",
       "</table>\n",
       "<p>100000 rows × 7 columns</p>\n",
       "</div>"
      ],
      "text/plain": [
       "                                                     post  age  gender  \\\n",
       "0                                ooh shiny new commenting   16  female   \n",
       "1       today parade suked bad band year battle today ...   14    male   \n",
       "2       know aabout anymore concerned everyday want bo...   24  female   \n",
       "3                                 roof sunset posted paul   24    male   \n",
       "4       god love nanny absolutely greatest woman earth...   23  female   \n",
       "...                                                   ...  ...     ...   \n",
       "104581  w y online gaming squared time try going want ...   24    male   \n",
       "104582                         jeremy concert high school   41  female   \n",
       "104583  hey great weekend went laura fun sunday sat da...   17    male   \n",
       "104584  house sand fog behrani family died daughter ma...   25  female   \n",
       "104585  excuse langauge fuck like keylogged msn says p...   17    male   \n",
       "\n",
       "        length                                          lemmatize  \\\n",
       "0            4                           ooh shiny new commenting   \n",
       "1           48  today parade suke bad band year battle today k...   \n",
       "2           80  know aabout anymore concerned everyday want bo...   \n",
       "3            7                              roof sunset post paul   \n",
       "4          730  god love nanny absolutely great woman earth kn...   \n",
       "...        ...                                                ...   \n",
       "104581      61  w y online gaming square time try going want g...   \n",
       "104582       9                         jeremy concert high school   \n",
       "104583     126  hey great weekend go laura fun sunday sat day ...   \n",
       "104584     115  house sand fog behrani family die daughter mar...   \n",
       "104585      67  excuse langauge fuck like keylogged msn say pa...   \n",
       "\n",
       "                                                embedding  age_class  \n",
       "0       [-0.18770814, -0.13998552, 0.019073976, 0.0225...          0  \n",
       "1       [-0.11394925, 0.02999169, 0.014715457, -0.0732...          0  \n",
       "2       [-0.10992989, -0.04249898, 0.019761039, 0.0499...          1  \n",
       "3       [-0.046943568, 0.13227944, 0.02199171, 0.00461...          1  \n",
       "4       [-0.03844242, -0.08146381, 0.017230963, 0.0577...          1  \n",
       "...                                                   ...        ...  \n",
       "104581  [-0.022314172, -0.12119941, -0.022755269, -0.0...          1  \n",
       "104582  [0.0012280531, 0.0471571, 0.042628232, -0.0627...          2  \n",
       "104583  [-0.050709814, -0.055519138, 0.07261971, 0.012...          0  \n",
       "104584  [-0.02100826, 0.08574633, -0.023208255, -0.004...          1  \n",
       "104585  [-0.023355829, -0.034410615, 0.037249092, -0.0...          0  \n",
       "\n",
       "[100000 rows x 7 columns]"
      ]
     },
     "execution_count": 29,
     "metadata": {},
     "output_type": "execute_result"
    }
   ],
   "source": [
    "train"
   ]
  },
  {
   "cell_type": "code",
   "execution_count": 30,
   "metadata": {},
   "outputs": [],
   "source": [
    "X = train['embedding'].to_list() # ,'has_young_word', 'word_count', 'has_emoticon', 'has_punctuation', 'has_URL'\n",
    "# X = pd.DataFrame(embedding['embedding'].to_list(), columns=[f'embedding_{i+1}' for i in range(384)])\n",
    "# X = pd.concat([X, features], axis = 1)\n",
    "y = train['gender'].to_list()"
   ]
  },
  {
   "cell_type": "code",
   "execution_count": 31,
   "metadata": {},
   "outputs": [],
   "source": [
    "# Devo creare dove allenare il modello\n",
    "from sklearn.model_selection import train_test_split\n",
    "X_train, X_val, y_train, y_val = train_test_split(X, y, test_size = 0.2, stratify = y) "
   ]
  },
  {
   "cell_type": "code",
   "execution_count": 32,
   "metadata": {},
   "outputs": [
    {
     "data": {
      "text/html": [
       "<style>#sk-container-id-3 {color: black;background-color: white;}#sk-container-id-3 pre{padding: 0;}#sk-container-id-3 div.sk-toggleable {background-color: white;}#sk-container-id-3 label.sk-toggleable__label {cursor: pointer;display: block;width: 100%;margin-bottom: 0;padding: 0.3em;box-sizing: border-box;text-align: center;}#sk-container-id-3 label.sk-toggleable__label-arrow:before {content: \"▸\";float: left;margin-right: 0.25em;color: #696969;}#sk-container-id-3 label.sk-toggleable__label-arrow:hover:before {color: black;}#sk-container-id-3 div.sk-estimator:hover label.sk-toggleable__label-arrow:before {color: black;}#sk-container-id-3 div.sk-toggleable__content {max-height: 0;max-width: 0;overflow: hidden;text-align: left;background-color: #f0f8ff;}#sk-container-id-3 div.sk-toggleable__content pre {margin: 0.2em;color: black;border-radius: 0.25em;background-color: #f0f8ff;}#sk-container-id-3 input.sk-toggleable__control:checked~div.sk-toggleable__content {max-height: 200px;max-width: 100%;overflow: auto;}#sk-container-id-3 input.sk-toggleable__control:checked~label.sk-toggleable__label-arrow:before {content: \"▾\";}#sk-container-id-3 div.sk-estimator input.sk-toggleable__control:checked~label.sk-toggleable__label {background-color: #d4ebff;}#sk-container-id-3 div.sk-label input.sk-toggleable__control:checked~label.sk-toggleable__label {background-color: #d4ebff;}#sk-container-id-3 input.sk-hidden--visually {border: 0;clip: rect(1px 1px 1px 1px);clip: rect(1px, 1px, 1px, 1px);height: 1px;margin: -1px;overflow: hidden;padding: 0;position: absolute;width: 1px;}#sk-container-id-3 div.sk-estimator {font-family: monospace;background-color: #f0f8ff;border: 1px dotted black;border-radius: 0.25em;box-sizing: border-box;margin-bottom: 0.5em;}#sk-container-id-3 div.sk-estimator:hover {background-color: #d4ebff;}#sk-container-id-3 div.sk-parallel-item::after {content: \"\";width: 100%;border-bottom: 1px solid gray;flex-grow: 1;}#sk-container-id-3 div.sk-label:hover label.sk-toggleable__label {background-color: #d4ebff;}#sk-container-id-3 div.sk-serial::before {content: \"\";position: absolute;border-left: 1px solid gray;box-sizing: border-box;top: 0;bottom: 0;left: 50%;z-index: 0;}#sk-container-id-3 div.sk-serial {display: flex;flex-direction: column;align-items: center;background-color: white;padding-right: 0.2em;padding-left: 0.2em;position: relative;}#sk-container-id-3 div.sk-item {position: relative;z-index: 1;}#sk-container-id-3 div.sk-parallel {display: flex;align-items: stretch;justify-content: center;background-color: white;position: relative;}#sk-container-id-3 div.sk-item::before, #sk-container-id-3 div.sk-parallel-item::before {content: \"\";position: absolute;border-left: 1px solid gray;box-sizing: border-box;top: 0;bottom: 0;left: 50%;z-index: -1;}#sk-container-id-3 div.sk-parallel-item {display: flex;flex-direction: column;z-index: 1;position: relative;background-color: white;}#sk-container-id-3 div.sk-parallel-item:first-child::after {align-self: flex-end;width: 50%;}#sk-container-id-3 div.sk-parallel-item:last-child::after {align-self: flex-start;width: 50%;}#sk-container-id-3 div.sk-parallel-item:only-child::after {width: 0;}#sk-container-id-3 div.sk-dashed-wrapped {border: 1px dashed gray;margin: 0 0.4em 0.5em 0.4em;box-sizing: border-box;padding-bottom: 0.4em;background-color: white;}#sk-container-id-3 div.sk-label label {font-family: monospace;font-weight: bold;display: inline-block;line-height: 1.2em;}#sk-container-id-3 div.sk-label-container {text-align: center;}#sk-container-id-3 div.sk-container {/* jupyter's `normalize.less` sets `[hidden] { display: none; }` but bootstrap.min.css set `[hidden] { display: none !important; }` so we also need the `!important` here to be able to override the default hidden behavior on the sphinx rendered scikit-learn.org. See: https://github.com/scikit-learn/scikit-learn/issues/21755 */display: inline-block !important;position: relative;}#sk-container-id-3 div.sk-text-repr-fallback {display: none;}</style><div id=\"sk-container-id-3\" class=\"sk-top-container\"><div class=\"sk-text-repr-fallback\"><pre>LogisticRegression()</pre><b>In a Jupyter environment, please rerun this cell to show the HTML representation or trust the notebook. <br />On GitHub, the HTML representation is unable to render, please try loading this page with nbviewer.org.</b></div><div class=\"sk-container\" hidden><div class=\"sk-item\"><div class=\"sk-estimator sk-toggleable\"><input class=\"sk-toggleable__control sk-hidden--visually\" id=\"sk-estimator-id-3\" type=\"checkbox\" checked><label for=\"sk-estimator-id-3\" class=\"sk-toggleable__label sk-toggleable__label-arrow\">LogisticRegression</label><div class=\"sk-toggleable__content\"><pre>LogisticRegression()</pre></div></div></div></div></div>"
      ],
      "text/plain": [
       "LogisticRegression()"
      ]
     },
     "execution_count": 32,
     "metadata": {},
     "output_type": "execute_result"
    }
   ],
   "source": [
    "#Il modello che usiamo\n",
    "from sklearn.linear_model import LogisticRegression\n",
    "lr = LogisticRegression()\n",
    "#Alleno il modello\n",
    "lr.fit(X_train, y_train)"
   ]
  },
  {
   "cell_type": "code",
   "execution_count": 33,
   "metadata": {},
   "outputs": [],
   "source": [
    "#Il prdict del modello\n",
    "from sklearn import metrics\n",
    "predicted = lr.predict(X_val) #questo mi servirà dentro la funzione da chiamare"
   ]
  },
  {
   "cell_type": "code",
   "execution_count": 34,
   "metadata": {},
   "outputs": [
    {
     "data": {
      "text/html": [
       "<style>#sk-container-id-4 {color: black;background-color: white;}#sk-container-id-4 pre{padding: 0;}#sk-container-id-4 div.sk-toggleable {background-color: white;}#sk-container-id-4 label.sk-toggleable__label {cursor: pointer;display: block;width: 100%;margin-bottom: 0;padding: 0.3em;box-sizing: border-box;text-align: center;}#sk-container-id-4 label.sk-toggleable__label-arrow:before {content: \"▸\";float: left;margin-right: 0.25em;color: #696969;}#sk-container-id-4 label.sk-toggleable__label-arrow:hover:before {color: black;}#sk-container-id-4 div.sk-estimator:hover label.sk-toggleable__label-arrow:before {color: black;}#sk-container-id-4 div.sk-toggleable__content {max-height: 0;max-width: 0;overflow: hidden;text-align: left;background-color: #f0f8ff;}#sk-container-id-4 div.sk-toggleable__content pre {margin: 0.2em;color: black;border-radius: 0.25em;background-color: #f0f8ff;}#sk-container-id-4 input.sk-toggleable__control:checked~div.sk-toggleable__content {max-height: 200px;max-width: 100%;overflow: auto;}#sk-container-id-4 input.sk-toggleable__control:checked~label.sk-toggleable__label-arrow:before {content: \"▾\";}#sk-container-id-4 div.sk-estimator input.sk-toggleable__control:checked~label.sk-toggleable__label {background-color: #d4ebff;}#sk-container-id-4 div.sk-label input.sk-toggleable__control:checked~label.sk-toggleable__label {background-color: #d4ebff;}#sk-container-id-4 input.sk-hidden--visually {border: 0;clip: rect(1px 1px 1px 1px);clip: rect(1px, 1px, 1px, 1px);height: 1px;margin: -1px;overflow: hidden;padding: 0;position: absolute;width: 1px;}#sk-container-id-4 div.sk-estimator {font-family: monospace;background-color: #f0f8ff;border: 1px dotted black;border-radius: 0.25em;box-sizing: border-box;margin-bottom: 0.5em;}#sk-container-id-4 div.sk-estimator:hover {background-color: #d4ebff;}#sk-container-id-4 div.sk-parallel-item::after {content: \"\";width: 100%;border-bottom: 1px solid gray;flex-grow: 1;}#sk-container-id-4 div.sk-label:hover label.sk-toggleable__label {background-color: #d4ebff;}#sk-container-id-4 div.sk-serial::before {content: \"\";position: absolute;border-left: 1px solid gray;box-sizing: border-box;top: 0;bottom: 0;left: 50%;z-index: 0;}#sk-container-id-4 div.sk-serial {display: flex;flex-direction: column;align-items: center;background-color: white;padding-right: 0.2em;padding-left: 0.2em;position: relative;}#sk-container-id-4 div.sk-item {position: relative;z-index: 1;}#sk-container-id-4 div.sk-parallel {display: flex;align-items: stretch;justify-content: center;background-color: white;position: relative;}#sk-container-id-4 div.sk-item::before, #sk-container-id-4 div.sk-parallel-item::before {content: \"\";position: absolute;border-left: 1px solid gray;box-sizing: border-box;top: 0;bottom: 0;left: 50%;z-index: -1;}#sk-container-id-4 div.sk-parallel-item {display: flex;flex-direction: column;z-index: 1;position: relative;background-color: white;}#sk-container-id-4 div.sk-parallel-item:first-child::after {align-self: flex-end;width: 50%;}#sk-container-id-4 div.sk-parallel-item:last-child::after {align-self: flex-start;width: 50%;}#sk-container-id-4 div.sk-parallel-item:only-child::after {width: 0;}#sk-container-id-4 div.sk-dashed-wrapped {border: 1px dashed gray;margin: 0 0.4em 0.5em 0.4em;box-sizing: border-box;padding-bottom: 0.4em;background-color: white;}#sk-container-id-4 div.sk-label label {font-family: monospace;font-weight: bold;display: inline-block;line-height: 1.2em;}#sk-container-id-4 div.sk-label-container {text-align: center;}#sk-container-id-4 div.sk-container {/* jupyter's `normalize.less` sets `[hidden] { display: none; }` but bootstrap.min.css set `[hidden] { display: none !important; }` so we also need the `!important` here to be able to override the default hidden behavior on the sphinx rendered scikit-learn.org. See: https://github.com/scikit-learn/scikit-learn/issues/21755 */display: inline-block !important;position: relative;}#sk-container-id-4 div.sk-text-repr-fallback {display: none;}</style><div id=\"sk-container-id-4\" class=\"sk-top-container\"><div class=\"sk-text-repr-fallback\"><pre>LogisticRegression(multi_class=&#x27;multinomial&#x27;)</pre><b>In a Jupyter environment, please rerun this cell to show the HTML representation or trust the notebook. <br />On GitHub, the HTML representation is unable to render, please try loading this page with nbviewer.org.</b></div><div class=\"sk-container\" hidden><div class=\"sk-item\"><div class=\"sk-estimator sk-toggleable\"><input class=\"sk-toggleable__control sk-hidden--visually\" id=\"sk-estimator-id-4\" type=\"checkbox\" checked><label for=\"sk-estimator-id-4\" class=\"sk-toggleable__label sk-toggleable__label-arrow\">LogisticRegression</label><div class=\"sk-toggleable__content\"><pre>LogisticRegression(multi_class=&#x27;multinomial&#x27;)</pre></div></div></div></div></div>"
      ],
      "text/plain": [
       "LogisticRegression(multi_class='multinomial')"
      ]
     },
     "execution_count": 34,
     "metadata": {},
     "output_type": "execute_result"
    }
   ],
   "source": [
    "X_age = train['embedding'].to_list() # ,'has_young_word', 'word_count', 'has_emoticon', 'has_punctuation', 'has_URL'\n",
    "# X = pd.DataFrame(embedding['embedding'].to_list(), columns=[f'embedding_{i+1}' for i in range(384)])\n",
    "# X = pd.concat([X, features], axis = 1)\n",
    "y_age = train['age_class'].to_list()\n",
    "X_train_age, X_val_age, y_train_age, y_val_age = train_test_split(X_age, y_age, test_size = 0.2, stratify = y_age) # stratification on the y to avoid class imbalancement\n",
    "model_age = LogisticRegression(multi_class='multinomial', solver='lbfgs')\n",
    "model_age.fit(X_train_age, y_train_age)"
   ]
  },
  {
   "cell_type": "code",
   "execution_count": 35,
   "metadata": {},
   "outputs": [],
   "source": [
    "#la funzione dentro Gradio\n",
    "def profAiling(post):\n",
    "    post = preprocessing(post).reshape(1,-1)\n",
    "    #print(post)\n",
    "    predicted = lr.predict_proba(post).tolist()[0]\n",
    "    class_names = [\"Female\", \"Male\"]\n",
    "    return {class_names[i]: predicted[i] for i in range(2)}"
   ]
  },
  {
   "cell_type": "code",
   "execution_count": 36,
   "metadata": {},
   "outputs": [],
   "source": [
    "def profAiling_age(post):\n",
    "    post = preprocessing(post).reshape(1,-1)\n",
    "    #print(post)\n",
    "    predicted = model_age.predict_proba(post).tolist()[0]\n",
    "    class_names = [\"Teens\", \"Twenties\", \"Thirtis\"]\n",
    "    return {class_names[i]: predicted[i] for i in range(3)}"
   ]
  },
  {
   "cell_type": "code",
   "execution_count": 79,
   "metadata": {},
   "outputs": [
    {
     "data": {
      "text/plain": [
       "{'Teens': 0.6346174758184201,\n",
       " 'Twenties': 0.2945704127077743,\n",
       " 'Thirtis': 0.07081211147380552}"
      ]
     },
     "execution_count": 79,
     "metadata": {},
     "output_type": "execute_result"
    }
   ],
   "source": [
    "profAiling_age(\"LOve LOL shopping mum\")"
   ]
  },
  {
   "cell_type": "code",
   "execution_count": 47,
   "metadata": {},
   "outputs": [
    {
     "data": {
      "text/plain": [
       "{'Female': 0.2908390480073644, 'Male': 0.7091609519926356}"
      ]
     },
     "execution_count": 47,
     "metadata": {},
     "output_type": "execute_result"
    }
   ],
   "source": [
    "profAiling(\"War American President\")"
   ]
  },
  {
   "cell_type": "code",
   "execution_count": 37,
   "metadata": {},
   "outputs": [],
   "source": [
    "app_1 =  gr.Interface(fn = profAiling, \n",
    "                    inputs=\"text\", \n",
    "                    outputs=gr.outputs.Label(),\n",
    "                    description=\"Welcome to profAIling app!\\n\\nSubmit your post and we will guess if you are a male or a female\",\n",
    "                    examples = [\"Rome is really hot in summer... Let's go shopping\", \"I really love the statistical learning project!\", \"I want to go on my vacation after a stressing year\",])"
   ]
  },
  {
   "cell_type": "code",
   "execution_count": 38,
   "metadata": {},
   "outputs": [],
   "source": [
    "app_2 = gr.Interface(fn = profAiling_age, \n",
    "                    inputs=\"text\", \n",
    "                    outputs=gr.outputs.Label(),\n",
    "                    description=\"Welcome to profAIling app!\\n\\nSubmit your post and we will guess your age\",\n",
    "                    examples = [\"Rome is really hot in summer... Let's go shopping\", \"I really love the statistical learning project!\", \"I want to go on my vacation after a stressing year\",])"
   ]
  },
  {
   "cell_type": "code",
   "execution_count": 39,
   "metadata": {},
   "outputs": [
    {
     "name": "stdout",
     "output_type": "stream",
     "text": [
      "Running on local URL:  http://127.0.0.1:7861\n",
      "\n",
      "To create a public link, set `share=True` in `launch()`.\n"
     ]
    },
    {
     "data": {
      "text/html": [
       "<div><iframe src=\"http://127.0.0.1:7861/\" width=\"100%\" height=\"500\" allow=\"autoplay; camera; microphone; clipboard-read; clipboard-write;\" frameborder=\"0\" allowfullscreen></iframe></div>"
      ],
      "text/plain": [
       "<IPython.core.display.HTML object>"
      ]
     },
     "metadata": {},
     "output_type": "display_data"
    },
    {
     "data": {
      "text/plain": []
     },
     "execution_count": 39,
     "metadata": {},
     "output_type": "execute_result"
    }
   ],
   "source": [
    "demo = gr.TabbedInterface([app_1, app_2], [\"Gender\", \"Age\"], title = \"ProfAIling\")\n",
    "\n",
    "demo.launch()\n"
   ]
  }
 ],
 "metadata": {
  "kernelspec": {
   "display_name": "Python 3",
   "language": "python",
   "name": "python3"
  },
  "language_info": {
   "codemirror_mode": {
    "name": "ipython",
    "version": 3
   },
   "file_extension": ".py",
   "mimetype": "text/x-python",
   "name": "python",
   "nbconvert_exporter": "python",
   "pygments_lexer": "ipython3",
   "version": "3.11.3"
  },
  "orig_nbformat": 4
 },
 "nbformat": 4,
 "nbformat_minor": 2
}
